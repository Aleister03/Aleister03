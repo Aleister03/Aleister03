{
  "nbformat": 4,
  "nbformat_minor": 0,
  "metadata": {
    "colab": {
      "provenance": [],
      "include_colab_link": true
    },
    "kernelspec": {
      "name": "python3",
      "display_name": "Python 3"
    },
    "language_info": {
      "name": "python"
    }
  },
  "cells": [
    {
      "cell_type": "markdown",
      "metadata": {
        "id": "view-in-github",
        "colab_type": "text"
      },
      "source": [
        "<a href=\"https://colab.research.google.com/github/Aleister03/Aleister03/blob/main/CSE110_Summer'23_ipnyb.ipynb\" target=\"_parent\"><img src=\"https://colab.research.google.com/assets/colab-badge.svg\" alt=\"Open In Colab\"/></a>"
      ]
    },
    {
      "cell_type": "markdown",
      "source": [
        "# lab assignment 1"
      ],
      "metadata": {
        "id": "VIg6c-DEA6iB"
      }
    },
    {
      "cell_type": "code",
      "source": [
        "#task1\n",
        "print(\"Hello World\")"
      ],
      "metadata": {
        "id": "GECpKn8lBOWz",
        "colab": {
          "base_uri": "https://localhost:8080/"
        },
        "outputId": "14564e16-7580-4733-8431-2a421c6c163d"
      },
      "execution_count": 1,
      "outputs": [
        {
          "output_type": "stream",
          "name": "stdout",
          "text": [
            "Hello World\n"
          ]
        }
      ]
    },
    {
      "cell_type": "code",
      "source": [
        "#task2\n",
        "print(54+56)"
      ],
      "metadata": {
        "id": "MhAEQ-3fCd6T",
        "colab": {
          "base_uri": "https://localhost:8080/"
        },
        "outputId": "2167430c-9956-45e5-f1b7-1f99b6d29e9b"
      },
      "execution_count": 2,
      "outputs": [
        {
          "output_type": "stream",
          "name": "stdout",
          "text": [
            "110\n"
          ]
        }
      ]
    },
    {
      "cell_type": "code",
      "source": [
        "#task3\n",
        "season=\"Summer\"\n",
        "year=\"2023\"\n",
        "print(season)\n",
        "print(year)"
      ],
      "metadata": {
        "id": "jv7tEtUGCwYZ",
        "colab": {
          "base_uri": "https://localhost:8080/"
        },
        "outputId": "1b73b8b7-d235-4d86-fa47-3516bccffab6"
      },
      "execution_count": 3,
      "outputs": [
        {
          "output_type": "stream",
          "name": "stdout",
          "text": [
            "Summer\n",
            "2023\n"
          ]
        }
      ]
    },
    {
      "cell_type": "code",
      "source": [
        "#task4\n",
        "n=input()\n",
        "print(\"Your name is\",n)"
      ],
      "metadata": {
        "id": "g50ssnNLC4g1",
        "colab": {
          "base_uri": "https://localhost:8080/"
        },
        "outputId": "c5ec4e15-5b16-459a-9606-bd9dd108d258"
      },
      "execution_count": 4,
      "outputs": [
        {
          "output_type": "stream",
          "name": "stdout",
          "text": [
            "Aorko\n",
            "Your name is Aorko\n"
          ]
        }
      ]
    },
    {
      "cell_type": "code",
      "source": [
        "#task5\n",
        "M=int(input())\n",
        "N=int(input())\n",
        "print(str(M)+\"^\"+str(N)+\":\",M**N)"
      ],
      "metadata": {
        "id": "yhQtNh3GDUE_",
        "colab": {
          "base_uri": "https://localhost:8080/"
        },
        "outputId": "7d0f9b8f-04d6-45c8-8fe8-4e7d754ddced"
      },
      "execution_count": 5,
      "outputs": [
        {
          "output_type": "stream",
          "name": "stdout",
          "text": [
            "5\n",
            "12\n",
            "5^12: 244140625\n"
          ]
        }
      ]
    },
    {
      "cell_type": "code",
      "source": [
        "#task6\n",
        "gds=int(input())\n",
        "rm=gds%4\n",
        "print(gds-rm)"
      ],
      "metadata": {
        "id": "fFWpedsYDdAr",
        "colab": {
          "base_uri": "https://localhost:8080/"
        },
        "outputId": "d2ebc978-bfef-4c2c-b9e3-2060b4d2e24e"
      },
      "execution_count": 6,
      "outputs": [
        {
          "output_type": "stream",
          "name": "stdout",
          "text": [
            "45\n",
            "44\n"
          ]
        }
      ]
    },
    {
      "cell_type": "code",
      "source": [
        "#task7\n",
        "A=int(input())\n",
        "B=int(input())\n",
        "C=int(input())\n",
        "D=float(input())\n",
        "print(int(A**C+B*A-D/3))"
      ],
      "metadata": {
        "id": "yJPTYQ_HDlgZ",
        "colab": {
          "base_uri": "https://localhost:8080/"
        },
        "outputId": "6c352420-045a-4d9d-dbc8-64997edad668"
      },
      "execution_count": 7,
      "outputs": [
        {
          "output_type": "stream",
          "name": "stdout",
          "text": [
            "4\n",
            "3\n",
            "5\n",
            "1\n",
            "1035\n"
          ]
        }
      ]
    },
    {
      "cell_type": "code",
      "source": [
        "#task8\n",
        "cho=int(input(\"Enter chocolates:\"))\n",
        "dst=int(cho/3)\n",
        "rmn=cho-dst*3\n",
        "print(\"Each friend will receive\",dst,\"chocolates\")\n",
        "print(\"The number of remaining chocolates is\",rmn)"
      ],
      "metadata": {
        "id": "QkbvU-CEEE2B",
        "colab": {
          "base_uri": "https://localhost:8080/"
        },
        "outputId": "367cee0f-032b-4a9e-e8ce-8d75e9fb579d"
      },
      "execution_count": 8,
      "outputs": [
        {
          "output_type": "stream",
          "name": "stdout",
          "text": [
            "Enter chocolates:23\n",
            "Each friend will receive 7 chocolates\n",
            "The number of remaining chocolates is 2\n"
          ]
        }
      ]
    },
    {
      "cell_type": "code",
      "source": [
        "#ungrade1\n",
        "M=input()\n",
        "N=input()\n",
        "print(N+M)"
      ],
      "metadata": {
        "id": "6sP-tEgXETsQ",
        "colab": {
          "base_uri": "https://localhost:8080/"
        },
        "outputId": "cf4ebbfe-b2de-4254-befd-faa45f36839a"
      },
      "execution_count": 9,
      "outputs": [
        {
          "output_type": "stream",
          "name": "stdout",
          "text": [
            "3\n",
            "2\n",
            "23\n"
          ]
        }
      ]
    },
    {
      "cell_type": "code",
      "source": [
        "#ungrade2\n",
        "n1=int(input())\n",
        "n2=float(input())\n",
        "n3=int(input())\n",
        "r=n1+n2\n",
        "print(\"The inputs:\",str(n1)+\",\",str(n2)+\",\",str(n3))\n",
        "print(\"The result is\",str(r)+str(n3))"
      ],
      "metadata": {
        "id": "BFvCcDV2EhcK",
        "colab": {
          "base_uri": "https://localhost:8080/"
        },
        "outputId": "519946bc-3921-48f3-c93b-539f953a8a49"
      },
      "execution_count": 10,
      "outputs": [
        {
          "output_type": "stream",
          "name": "stdout",
          "text": [
            "3\n",
            "2\n",
            "4\n",
            "The inputs: 3, 2.0, 4\n",
            "The result is 5.04\n"
          ]
        }
      ]
    },
    {
      "cell_type": "code",
      "source": [
        "#ungrade3\n",
        "num=int(input())\n",
        "if num%2==0:\n",
        "  print(\"True\")\n",
        "else:\n",
        "  print(\"False\")"
      ],
      "metadata": {
        "id": "kJi_utZAE0Gh",
        "colab": {
          "base_uri": "https://localhost:8080/"
        },
        "outputId": "a166c8a0-a39d-49ac-9baa-c98d48505494"
      },
      "execution_count": 11,
      "outputs": [
        {
          "output_type": "stream",
          "name": "stdout",
          "text": [
            "8\n",
            "True\n"
          ]
        }
      ]
    },
    {
      "cell_type": "markdown",
      "source": [
        "# lab assignment 2"
      ],
      "metadata": {
        "id": "3QA7V8WEFL0s"
      }
    },
    {
      "cell_type": "code",
      "source": [
        "#task1\n",
        "a=int(input())\n",
        "b=int(input())\n",
        "print(\"Sum =\",a+b)\n",
        "print(\"Product =\",a*b)\n",
        "print(\"Difference =\",a-b)"
      ],
      "metadata": {
        "id": "vROipvjXFTkz",
        "colab": {
          "base_uri": "https://localhost:8080/"
        },
        "outputId": "b532aa3d-49ca-4684-a42d-2cc156896b15"
      },
      "execution_count": 12,
      "outputs": [
        {
          "output_type": "stream",
          "name": "stdout",
          "text": [
            "6\n",
            "2\n",
            "Sum = 8\n",
            "Product = 12\n",
            "Difference = 4\n"
          ]
        }
      ]
    },
    {
      "cell_type": "code",
      "source": [
        "#task2\n",
        "import math\n",
        "radius=float(input())\n",
        "area=math.pi*radius**2\n",
        "circ=radius*math.pi*2\n",
        "print(\"Area is\",area)\n",
        "print(\"Circumference is\",circ)"
      ],
      "metadata": {
        "id": "IZ_jE5wQFjyL",
        "colab": {
          "base_uri": "https://localhost:8080/"
        },
        "outputId": "f8769b13-4945-42ad-d1ac-ac59acb645a2"
      },
      "execution_count": 13,
      "outputs": [
        {
          "output_type": "stream",
          "name": "stdout",
          "text": [
            "6\n",
            "Area is 113.09733552923255\n",
            "Circumference is 37.69911184307752\n"
          ]
        }
      ]
    },
    {
      "cell_type": "code",
      "source": [
        "#task3\n",
        "num1=int(input())\n",
        "num2=int(input())\n",
        "if num1>num2:\n",
        "  print(\"First is greater\")\n",
        "elif num2>num1:\n",
        "  print(\"Second is greater\")\n",
        "else:\n",
        "  print(\"The numbers are equal\")"
      ],
      "metadata": {
        "id": "8VI5bZHhF3Wq",
        "colab": {
          "base_uri": "https://localhost:8080/"
        },
        "outputId": "14190631-0883-4e52-857d-6a4b81dd2c14"
      },
      "execution_count": 14,
      "outputs": [
        {
          "output_type": "stream",
          "name": "stdout",
          "text": [
            "4\n",
            "-4\n",
            "First is greater\n"
          ]
        }
      ]
    },
    {
      "cell_type": "code",
      "source": [
        "#task4\n",
        "a=int(input())\n",
        "b=int(input())\n",
        "if a>b:\n",
        "  print(a-b)\n",
        "elif b>a:\n",
        "  print(b-a)\n",
        "else:\n",
        "  print(a-b)"
      ],
      "metadata": {
        "id": "xMYo0Ad4F-5E",
        "colab": {
          "base_uri": "https://localhost:8080/"
        },
        "outputId": "d72874a4-04b2-4d9b-b101-53f4843eeb3d"
      },
      "execution_count": 15,
      "outputs": [
        {
          "output_type": "stream",
          "name": "stdout",
          "text": [
            "2\n",
            "-1\n",
            "3\n"
          ]
        }
      ]
    },
    {
      "cell_type": "code",
      "source": [
        "#task5\n",
        "num=int(input())\n",
        "if num%2==0:\n",
        "  print(\"The number is even\")\n",
        "else:\n",
        "  print(\"The number is odd\")"
      ],
      "metadata": {
        "id": "X_P14dfxGe-x",
        "colab": {
          "base_uri": "https://localhost:8080/"
        },
        "outputId": "0fe0485d-af12-4f87-982c-65f7ef15f093"
      },
      "execution_count": 16,
      "outputs": [
        {
          "output_type": "stream",
          "name": "stdout",
          "text": [
            "9\n",
            "The number is odd\n"
          ]
        }
      ]
    },
    {
      "cell_type": "code",
      "source": [
        "#task6\n",
        "num=int(input())\n",
        "if num%2==0 or num%5==0:\n",
        "  print(num)\n",
        "else:\n",
        "  print(\"Not a multiple of 2 OR 5\")"
      ],
      "metadata": {
        "id": "rVyk4rkWGqpT",
        "colab": {
          "base_uri": "https://localhost:8080/"
        },
        "outputId": "b5026a1d-5d70-4ed9-ece1-df469d3c5dbd"
      },
      "execution_count": 17,
      "outputs": [
        {
          "output_type": "stream",
          "name": "stdout",
          "text": [
            "10\n",
            "10\n"
          ]
        }
      ]
    },
    {
      "cell_type": "code",
      "source": [
        "#task7\n",
        "num=int(input())\n",
        "if num%2==0 and num%5==0:\n",
        "  print(\"Multiple of 2 and 5 both\")\n",
        "elif num%2==0 or num%5==0:\n",
        "  print(num)\n",
        "else:\n",
        "  print(\"Not a multiple we want\")"
      ],
      "metadata": {
        "id": "8iyV3JutHAG8",
        "colab": {
          "base_uri": "https://localhost:8080/"
        },
        "outputId": "e08b30dc-b0e1-46ce-e0ed-0a6af3545735"
      },
      "execution_count": 18,
      "outputs": [
        {
          "output_type": "stream",
          "name": "stdout",
          "text": [
            "3\n",
            "Not a multiple we want\n"
          ]
        }
      ]
    },
    {
      "cell_type": "code",
      "source": [
        "#task8\n",
        "num=int(input())\n",
        "if num%2==0 and num%5==0:\n",
        "  print(num)\n",
        "else:\n",
        "  print(\"Not multiple of 2 and 5 both\")"
      ],
      "metadata": {
        "id": "EFvifDWjHUPU",
        "colab": {
          "base_uri": "https://localhost:8080/"
        },
        "outputId": "aba12ddb-5bac-4063-f6e9-79125b23c735"
      },
      "execution_count": 19,
      "outputs": [
        {
          "output_type": "stream",
          "name": "stdout",
          "text": [
            "11\n",
            "Not multiple of 2 and 5 both\n"
          ]
        }
      ]
    },
    {
      "cell_type": "code",
      "source": [
        "#task9\n",
        "user=int(input())\n",
        "hrs=user//3600\n",
        "mnt1=user%3600\n",
        "mnt2=mnt1//60\n",
        "scnd=mnt1%60\n",
        "print(\"Hours:\",hrs,\"Minutes:\",mnt2,\"Seconds:\",scnd)"
      ],
      "metadata": {
        "id": "44ckt0tqHiaY",
        "colab": {
          "base_uri": "https://localhost:8080/"
        },
        "outputId": "b74ad217-6f7c-4b6f-cd1c-62d038183ae5"
      },
      "execution_count": 20,
      "outputs": [
        {
          "output_type": "stream",
          "name": "stdout",
          "text": [
            "2440\n",
            "Hours: 0 Minutes: 40 Seconds: 40\n"
          ]
        }
      ]
    },
    {
      "cell_type": "code",
      "source": [
        "#task10\n",
        "wh=int(input())\n",
        "if 0<=wh<=40:\n",
        "  print(wh*200)\n",
        "elif 168>=wh>40:\n",
        "  print(8000+(wh-40)*300)\n",
        "elif wh>168:\n",
        "  print(\"Impossible to work more than 168 hours weekly\")\n",
        "elif 0>wh:\n",
        "  print(\"Hour cannot be negative\")"
      ],
      "metadata": {
        "id": "Z0uaFTUOIDR6",
        "colab": {
          "base_uri": "https://localhost:8080/"
        },
        "outputId": "9af911c3-2327-4aa6-fdb2-443b2c08ab3b"
      },
      "execution_count": 21,
      "outputs": [
        {
          "output_type": "stream",
          "name": "stdout",
          "text": [
            "45\n",
            "9500\n"
          ]
        }
      ]
    },
    {
      "cell_type": "code",
      "source": [
        "#task11\n",
        "S=int(input())\n",
        "if S<100:\n",
        "  print(3000-125*S**2)\n",
        "elif S>=100:\n",
        "  print(12000/(4+(S**2)/14900))"
      ],
      "metadata": {
        "id": "4_-TVfyEIYAr",
        "colab": {
          "base_uri": "https://localhost:8080/"
        },
        "outputId": "ca847547-c07b-4e0f-ba38-630a0a3a8480"
      },
      "execution_count": 22,
      "outputs": [
        {
          "output_type": "stream",
          "name": "stdout",
          "text": [
            "3\n",
            "1875\n"
          ]
        }
      ]
    },
    {
      "cell_type": "code",
      "source": [
        "#task12\n",
        "user=int(input())\n",
        "if 6>=user>=4:\n",
        "  print(\"Breakfast\")\n",
        "elif 13>=user>=12:\n",
        "  print(\"Lunch\")\n",
        "elif 17>=user>=16:\n",
        "  print(\"Snacks\")\n",
        "elif 20>=user>=19:\n",
        "  print(\"Dinner\")\n",
        "elif 23>=user>=0:\n",
        "  print(\"Patience is a virtue\")\n",
        "else:\n",
        "  print(\"Wrong time\")"
      ],
      "metadata": {
        "id": "hvxzhq7TIqgQ",
        "colab": {
          "base_uri": "https://localhost:8080/"
        },
        "outputId": "57068f8d-2317-4e13-dbe5-b14e672f1460"
      },
      "execution_count": 23,
      "outputs": [
        {
          "output_type": "stream",
          "name": "stdout",
          "text": [
            "11\n",
            "Patience is a virtue\n"
          ]
        }
      ]
    },
    {
      "cell_type": "code",
      "source": [
        "#task13\n",
        "num=int(input(\"Enter marks:\"))\n",
        "if 100>=num>=90:\n",
        "  print(\"A\")\n",
        "elif 89>=num>=80:\n",
        "  print(\"B\")\n",
        "elif 79>=num>=70:\n",
        "  print(\"C\")\n",
        "elif 69>=num>=60:\n",
        "  print(\"D\")\n",
        "elif 59>=num>=50:\n",
        "  print(\"E\")\n",
        "elif 0>=num>=40:\n",
        "  print(\"F\")\n",
        "else:\n",
        "  print(\"Invalid Marks\")"
      ],
      "metadata": {
        "id": "GajT0Ae_JHOp",
        "colab": {
          "base_uri": "https://localhost:8080/"
        },
        "outputId": "a2dd2090-7f4b-4439-e1b5-047d505cb8c0"
      },
      "execution_count": 24,
      "outputs": [
        {
          "output_type": "stream",
          "name": "stdout",
          "text": [
            "Enter marks:76\n",
            "C\n"
          ]
        }
      ]
    },
    {
      "cell_type": "code",
      "source": [
        "#task14\n",
        "dis=int(input(\"In meters:\"))\n",
        "time=int(input(\"In seconds:\"))\n",
        "dis2=dis*0.001\n",
        "time2=time/3600\n",
        "velo=dis2/time2\n",
        "print(velo,\"km/h\")\n",
        "if velo<60:\n",
        "  print(\"Too slow. Needs more changes.\")\n",
        "elif 60<=velo<=90:\n",
        "  print(\"Velocity is okay. The car is ready!\")\n",
        "elif velo>90:\n",
        "  print(\"Too fast. Only a few changes should suffice.\")"
      ],
      "metadata": {
        "id": "OWv7DCYPJL2M",
        "colab": {
          "base_uri": "https://localhost:8080/"
        },
        "outputId": "60fb7f09-e58b-445b-e423-de79cf4b86f1"
      },
      "execution_count": 25,
      "outputs": [
        {
          "output_type": "stream",
          "name": "stdout",
          "text": [
            "In meters:890\n",
            "In seconds:43\n",
            "74.51162790697674 km/h\n",
            "Velocity is okay. The car is ready!\n"
          ]
        }
      ]
    },
    {
      "cell_type": "code",
      "source": [
        "#task15\n",
        "cgpa=float(input(\"Enter CGPA:\"))\n",
        "cred=int(input(\"Enter credits:\"))\n",
        "if 3.89>=cgpa>=3.8 and cred>=30:\n",
        "  print(\"The student is eligible for a waiver of 25 percent.\")\n",
        "elif 3.94>=cgpa>=3.9 and cred>=30:\n",
        "  print(\"The student is eligible for a waiver of 50 percent.\")\n",
        "elif 3.99>=cgpa>=3.95 and cred>=30:\n",
        "  print(\"The student is eligible for a waiver of 75 percent.\")\n",
        "elif cgpa==4 and cred>=30:\n",
        "  print(\"The student is eligible for a waiver of 100 percent.\")\n",
        "else:\n",
        "  print(\"The student is not eligible for a waiver\")"
      ],
      "metadata": {
        "id": "OsTn_h-MJkrU",
        "colab": {
          "base_uri": "https://localhost:8080/"
        },
        "outputId": "43f692f7-75be-480c-f361-2d100b7e668d"
      },
      "execution_count": 26,
      "outputs": [
        {
          "output_type": "stream",
          "name": "stdout",
          "text": [
            "Enter CGPA:3.26\n",
            "Enter credits:39\n",
            "The student is not eligible for a waiver\n"
          ]
        }
      ]
    },
    {
      "cell_type": "code",
      "source": [
        "#ungrade1\n",
        "num=int(input())\n",
        "if num%2!=0 and num%5!=0:\n",
        "  print(num)\n",
        "else:\n",
        "  print(\"No\")"
      ],
      "metadata": {
        "id": "UMn2QwRAJsUB",
        "colab": {
          "base_uri": "https://localhost:8080/"
        },
        "outputId": "ddc8a6bf-664f-4901-b6f4-b0623afef8a6"
      },
      "execution_count": 27,
      "outputs": [
        {
          "output_type": "stream",
          "name": "stdout",
          "text": [
            "2\n",
            "No\n"
          ]
        }
      ]
    },
    {
      "cell_type": "code",
      "source": [
        "#ungrade2\n",
        "num=int(input())\n",
        "if num%2!=0 or num%5!=0:\n",
        "  print(num)\n",
        "else:\n",
        "  print(\"No\")"
      ],
      "metadata": {
        "id": "sIPDtCfLKp1S",
        "colab": {
          "base_uri": "https://localhost:8080/"
        },
        "outputId": "38e4b6f5-3da2-4868-aca4-ea0e70c80068"
      },
      "execution_count": 28,
      "outputs": [
        {
          "output_type": "stream",
          "name": "stdout",
          "text": [
            "5\n",
            "5\n"
          ]
        }
      ]
    },
    {
      "cell_type": "code",
      "source": [
        "#ungrade3\n",
        "can=int(input(\"Canvases:\"))\n",
        "tube=int(input(\"Paint tubes:\"))\n",
        "p_can=can*120\n",
        "p_tube=tube*75\n",
        "price=p_can+p_tube\n",
        "print(\"Previous total:\",price)\n",
        "if 299>=price>=0:\n",
        "  print(\"New total after discount:\",price-0)\n",
        "elif 499>=price>=300:\n",
        "  print(\"New total after discount:\",price-10)\n",
        "elif 749>=price>=500:\n",
        "  print(\"New total after discount:\",price-20)\n",
        "elif 999>=price>=750:\n",
        "  print(\"New total after discount:\",price-50)\n",
        "elif price>=1000:\n",
        "  print(\"New total after discount:\",price-150)"
      ],
      "metadata": {
        "id": "EGQbeSKqKuv2",
        "colab": {
          "base_uri": "https://localhost:8080/"
        },
        "outputId": "7e44ccca-4a1a-4b71-a648-447436e03b85"
      },
      "execution_count": 29,
      "outputs": [
        {
          "output_type": "stream",
          "name": "stdout",
          "text": [
            "Canvases:3\n",
            "Paint tubes:5\n",
            "Previous total: 735\n",
            "New total after discount: 715\n"
          ]
        }
      ]
    },
    {
      "cell_type": "code",
      "source": [
        "#ungrade4\n",
        "tempf=int(input(\"Temperature in Fahrenheit:\"))\n",
        "tempc=(tempf-32)*0.56\n",
        "print(tempc,\"degrees C\")\n",
        "if 20>tempc:\n",
        "  print(\"Winter\")\n",
        "elif 25>=tempc>=20:\n",
        "  print(\"Autumn\")\n",
        "elif 30>=tempc>25:\n",
        "  print(\"Spring\")\n",
        "elif 30>=tempc:\n",
        "  print(\"Summer\")"
      ],
      "metadata": {
        "id": "r1YpohwhLevQ",
        "colab": {
          "base_uri": "https://localhost:8080/"
        },
        "outputId": "5b88b8d4-3cc8-4047-babe-d9c05e96afa4"
      },
      "execution_count": 30,
      "outputs": [
        {
          "output_type": "stream",
          "name": "stdout",
          "text": [
            "Temperature in Fahrenheit:160\n",
            "71.68 degrees C\n"
          ]
        }
      ]
    },
    {
      "cell_type": "markdown",
      "source": [
        "#lab assignment 3"
      ],
      "metadata": {
        "id": "jqZpoDGvL1A3"
      }
    },
    {
      "cell_type": "code",
      "source": [
        "#task1a\n",
        "for i in range(24,-7,-6):\n",
        "  if i==-6:\n",
        "    print(i,end=\"\")\n",
        "  else:\n",
        "    print(i,end=\", \")"
      ],
      "metadata": {
        "id": "CZTU7UkyL--0",
        "colab": {
          "base_uri": "https://localhost:8080/"
        },
        "outputId": "a6042d3e-4aa6-42d3-b5e5-f13bdfdbb9c0"
      },
      "execution_count": 31,
      "outputs": [
        {
          "output_type": "stream",
          "name": "stdout",
          "text": [
            "24, 18, 12, 6, 0, -6"
          ]
        }
      ]
    },
    {
      "cell_type": "code",
      "source": [
        "#task1b\n",
        "for i in range(-10,21,5):\n",
        "  if i==20:\n",
        "    print(i,end=\"\")\n",
        "  else:\n",
        "    print(i,end=\", \")"
      ],
      "metadata": {
        "id": "epiRSGpNMS1x",
        "colab": {
          "base_uri": "https://localhost:8080/"
        },
        "outputId": "29a51016-227c-429b-aa65-23d0786dd3e1"
      },
      "execution_count": 32,
      "outputs": [
        {
          "output_type": "stream",
          "name": "stdout",
          "text": [
            "-10, -5, 0, 5, 10, 15, 20"
          ]
        }
      ]
    },
    {
      "cell_type": "code",
      "source": [
        "#task1c\n",
        "for i in range(18,64,9):\n",
        "  if i==63:\n",
        "    print(i,end=\"\")\n",
        "  else:\n",
        "    print(i,end=\", \")"
      ],
      "metadata": {
        "id": "XttSZO2zMspX",
        "colab": {
          "base_uri": "https://localhost:8080/"
        },
        "outputId": "3638669a-5a4f-4bbb-9573-15fd275aa64d"
      },
      "execution_count": 33,
      "outputs": [
        {
          "output_type": "stream",
          "name": "stdout",
          "text": [
            "18, 27, 36, 45, 54, 63"
          ]
        }
      ]
    },
    {
      "cell_type": "code",
      "source": [
        "#task1d\n",
        "for i in range(18,64,9):\n",
        "  if i==63:\n",
        "    print(i*-1,\"\")\n",
        "  elif i%2==0:\n",
        "    print(i,end=\",\")\n",
        "  elif i%2!=0:\n",
        "    print(i*-1,end=\",\")"
      ],
      "metadata": {
        "id": "1n9lpj-JM1PS",
        "colab": {
          "base_uri": "https://localhost:8080/"
        },
        "outputId": "7f15808c-2cde-4e8b-e5cc-1906d7fadf01"
      },
      "execution_count": 34,
      "outputs": [
        {
          "output_type": "stream",
          "name": "stdout",
          "text": [
            "18,-27,36,-45,54,-63 \n"
          ]
        }
      ]
    },
    {
      "cell_type": "code",
      "source": [
        "#task2\n",
        "fav_car=str(input(\"Enter favourite car:\"))\n",
        "num=int(input(\"Enter a number:\"))\n",
        "for i in range(num):\n",
        "  print(fav_car)"
      ],
      "metadata": {
        "id": "xxogOg5lM-Rb",
        "colab": {
          "base_uri": "https://localhost:8080/"
        },
        "outputId": "0ee44165-3806-4891-9401-00b404c9c693"
      },
      "execution_count": 35,
      "outputs": [
        {
          "output_type": "stream",
          "name": "stdout",
          "text": [
            "Enter favourite car:toyota\n",
            "Enter a number:3\n",
            "toyota\n",
            "toyota\n",
            "toyota\n"
          ]
        }
      ]
    },
    {
      "cell_type": "code",
      "source": [
        "#task3\n",
        "sum=0\n",
        "for i in range(1,601):\n",
        "  if i%7==0 and i%9==0:\n",
        "    sum+=i\n",
        "print(sum)"
      ],
      "metadata": {
        "id": "GI63JYolNhFM",
        "colab": {
          "base_uri": "https://localhost:8080/"
        },
        "outputId": "6b355ad5-3c0c-43e6-8467-e13c40b71bf4"
      },
      "execution_count": 36,
      "outputs": [
        {
          "output_type": "stream",
          "name": "stdout",
          "text": [
            "2835\n"
          ]
        }
      ]
    },
    {
      "cell_type": "code",
      "source": [
        "#task4\n",
        "sum=0\n",
        "for i in range(1,601):\n",
        "  if i%7==0 and i%9==0:\n",
        "    pass\n",
        "  elif i%7==0 or i%9==0:\n",
        "    sum+=i\n",
        "print(sum)"
      ],
      "metadata": {
        "id": "1iLUFIEONlqr",
        "colab": {
          "base_uri": "https://localhost:8080/"
        },
        "outputId": "0f5563fb-16b1-4ba6-b126-6777cbb1dfce"
      },
      "execution_count": 37,
      "outputs": [
        {
          "output_type": "stream",
          "name": "stdout",
          "text": [
            "39814\n"
          ]
        }
      ]
    },
    {
      "cell_type": "code",
      "source": [
        "#task5\n",
        "for i in range(10,51):\n",
        "  if i%2!=0:\n",
        "    print(i,end=\" \")"
      ],
      "metadata": {
        "id": "X06KbR3iNuj3",
        "colab": {
          "base_uri": "https://localhost:8080/"
        },
        "outputId": "516b88f7-2901-4c45-94ee-c36c25868652"
      },
      "execution_count": 38,
      "outputs": [
        {
          "output_type": "stream",
          "name": "stdout",
          "text": [
            "11 13 15 17 19 21 23 25 27 29 31 33 35 37 39 41 43 45 47 49 "
          ]
        }
      ]
    },
    {
      "cell_type": "code",
      "source": [
        "#task6\n",
        "n=int(input())\n",
        "odd=0\n",
        "even=0\n",
        "for i in range(1,n+1):\n",
        "  if i%2==0:\n",
        "    odd+=i**2\n",
        "  elif i%2!=0:\n",
        "    even+=i**2\n",
        "result=even-odd\n",
        "print(result)"
      ],
      "metadata": {
        "id": "cDzHUvquOFIb",
        "colab": {
          "base_uri": "https://localhost:8080/"
        },
        "outputId": "90641486-b681-475c-a309-368cd38a2b02"
      },
      "execution_count": 39,
      "outputs": [
        {
          "output_type": "stream",
          "name": "stdout",
          "text": [
            "4\n",
            "-10\n"
          ]
        }
      ]
    },
    {
      "cell_type": "code",
      "source": [
        "#task7\n",
        "sum=0\n",
        "odd=0\n",
        "for n in range(10):\n",
        "  num=int(input())\n",
        "  if num%2!=0:\n",
        "    odd+=1\n",
        "    sum+=num\n",
        "print(\"The total of the odd numbers is\",sum,\"and their average is\",sum/odd)"
      ],
      "metadata": {
        "id": "cKQ93gvmOPoE",
        "colab": {
          "base_uri": "https://localhost:8080/"
        },
        "outputId": "a0f76c30-e85b-4b99-ed27-5543bf863d12"
      },
      "execution_count": 40,
      "outputs": [
        {
          "output_type": "stream",
          "name": "stdout",
          "text": [
            "9\n",
            "4\n",
            "3\n",
            "6\n",
            "2\n",
            "11\n",
            "24\n",
            "5\n",
            "21\n",
            "1\n",
            "The total of the odd numbers is 50 and their average is 8.333333333333334\n"
          ]
        }
      ]
    },
    {
      "cell_type": "code",
      "source": [
        "#task8\n",
        "N=int(input(\"Enter a number:\"))\n",
        "sum=0\n",
        "for n in range(1,N+1):\n",
        "  if n%7==0:\n",
        "    sum+=n\n",
        "print(sum)"
      ],
      "metadata": {
        "id": "C73pUTnROwQT"
      },
      "execution_count": null,
      "outputs": []
    },
    {
      "cell_type": "code",
      "source": [
        "#task9\n",
        "sum=0\n",
        "for i in range(5):\n",
        "  num=int(input(\"Number:\"))\n",
        "  sum+=num\n",
        "  print(\"Summatiom:\",sum)"
      ],
      "metadata": {
        "id": "t67INhG5PBEL"
      },
      "execution_count": null,
      "outputs": []
    },
    {
      "cell_type": "code",
      "source": [
        "#task10\n",
        "num=int(input())\n",
        "while num!=0:\n",
        "  if num>10:\n",
        "    print(num%10,end=\",\")\n",
        "  else:\n",
        "    print(num%10)\n",
        "  num//=10"
      ],
      "metadata": {
        "id": "3V6p9OSWQFSu"
      },
      "execution_count": null,
      "outputs": []
    },
    {
      "cell_type": "code",
      "source": [
        "#task11\n",
        "num=int(input())\n",
        "count=0\n",
        "while num!=0:\n",
        "  count+=1\n",
        "  num//=10\n",
        "print(count)"
      ],
      "metadata": {
        "id": "a9HY3QEkQUBe"
      },
      "execution_count": null,
      "outputs": []
    },
    {
      "cell_type": "code",
      "source": [
        "#task12\n",
        "num=int(input())\n",
        "dgts=0\n",
        "n=num\n",
        "while n!=0:\n",
        "  dgts+=1\n",
        "  n//=10\n",
        "n=num\n",
        "while dgts!=0:\n",
        "  dgts-=1\n",
        "  dgts2=n//10**dgts\n",
        "  n%=10**dgts\n",
        "  if dgts!=0:\n",
        "    print(dgts2,end=\",\")\n",
        "  else:\n",
        "    print(dgts2)"
      ],
      "metadata": {
        "id": "M9fH2phHQh7j"
      },
      "execution_count": null,
      "outputs": []
    },
    {
      "cell_type": "code",
      "source": [
        "#task13\n",
        "num=int(input(\"Enter a number:\"))\n",
        "dvs=0\n",
        "for i in range(1,num+1):\n",
        "  if num%i==0:\n",
        "    dvs+=1\n",
        "    print(i)\n",
        "print(\"Total\",dvs,\"divisors.\")"
      ],
      "metadata": {
        "id": "maaE0jnBQ7QF"
      },
      "execution_count": null,
      "outputs": []
    },
    {
      "cell_type": "code",
      "source": [
        "#task14\n",
        "num=int(input(\"Enter a number:\"))\n",
        "sum=0\n",
        "for i in range(1,num):\n",
        "  if num%i==0:\n",
        "    sum+=i\n",
        "if sum==num:\n",
        "  print(num,\"is a perfect number\")\n",
        "else:\n",
        "  print(num,\"is not a perfect number\")"
      ],
      "metadata": {
        "id": "7koEWlXQROem"
      },
      "execution_count": null,
      "outputs": []
    },
    {
      "cell_type": "code",
      "source": [
        "#task15\n",
        "num=int(input(\"Enter a number:\"))\n",
        "dvs=0\n",
        "for i in range(1,num+1):\n",
        "  if num%i==0:\n",
        "    dvs+=1\n",
        "if dvs==2:\n",
        "  print(num,\"is a prime number\")\n",
        "else:\n",
        "  print(num,\"is not a prime number\")"
      ],
      "metadata": {
        "id": "2uWuu9hZRtfa"
      },
      "execution_count": null,
      "outputs": []
    },
    {
      "cell_type": "code",
      "source": [
        "#task16\n",
        "qnt=int(input(\"Enter quantity:\"))\n",
        "max=min=sum=0\n",
        "for n in range(qnt):\n",
        "  num=int(input(\"Enter number:\"))\n",
        "  sum+=num\n",
        "  if n==0:\n",
        "    max=min=num\n",
        "    continue\n",
        "  if num>max:\n",
        "    max=num\n",
        "  elif num<min:\n",
        "    min=num\n",
        "print(sum/qnt)\n",
        "print(max)\n",
        "print(min)"
      ],
      "metadata": {
        "id": "9wveQP4hSGV5"
      },
      "execution_count": null,
      "outputs": []
    },
    {
      "cell_type": "code",
      "source": [
        "#task17\n",
        "N=int(input(\"Enter size:\"))\n",
        "for i in range(N):\n",
        "  for j in range(N):\n",
        "    print(\"+\",end=\"\")\n",
        "  print()"
      ],
      "metadata": {
        "id": "7hbxenF3SneX"
      },
      "execution_count": null,
      "outputs": []
    },
    {
      "cell_type": "code",
      "source": [
        "#task18\n",
        "M=int(input(\"Line numbers:\"))\n",
        "N=int(input(\"Column numbers:\"))\n",
        "for i in range(1,M+1):\n",
        "  for j in range(1,N+1):\n",
        "    print(j,end=\"\")\n",
        "  print()"
      ],
      "metadata": {
        "id": "meRRzoUXTCFc"
      },
      "execution_count": null,
      "outputs": []
    },
    {
      "cell_type": "code",
      "source": [
        "#task19\n",
        "N=int(input(\"Enter height:\"))\n",
        "for i in range(N+1):\n",
        "  for j in range(1,i+1):\n",
        "    print(j,end=\"\")\n",
        "  print()"
      ],
      "metadata": {
        "id": "fovmaEDcTNoE"
      },
      "execution_count": null,
      "outputs": []
    },
    {
      "cell_type": "code",
      "source": [
        "#ungrade1\n",
        "N=int(input())\n",
        "a,b=0,1\n",
        "print(a,end=\" \")\n",
        "if N>=b:\n",
        "  print(b,end=\" \")\n",
        "for n in range(N-2):\n",
        "  c=a+b\n",
        "  if N<c:\n",
        "    break\n",
        "  print(c,end=\" \")\n",
        "  a,b=b,c\n",
        "print()"
      ],
      "metadata": {
        "id": "vSYruiSlTvD4"
      },
      "execution_count": null,
      "outputs": []
    },
    {
      "cell_type": "code",
      "source": [
        "#ungrade2\n",
        "num=int(input())\n",
        "binary=\"\"\n",
        "while num!=0:\n",
        "  binary+=str(num%2)\n",
        "  num//=2\n",
        "print(binary[::-1])"
      ],
      "metadata": {
        "id": "2Fyxw_rpUew4"
      },
      "execution_count": null,
      "outputs": []
    },
    {
      "cell_type": "code",
      "source": [
        "#ungrade3\n",
        "x=input()\n",
        "a=x[-1::-1]\n",
        "sum=0\n",
        "for n in range(len(a)):\n",
        "  sum+=(int(a[n])*(2**n))\n",
        "print(sum)"
      ],
      "metadata": {
        "id": "nHmrMC0vU2b1"
      },
      "execution_count": null,
      "outputs": []
    },
    {
      "cell_type": "code",
      "source": [
        "#ungrade4\n",
        "a=int(input(\"Enter starting integer:\"))\n",
        "b=int(input(\"Enter finishing integer\"))\n",
        "count_prime=0\n",
        "count_perfect=0\n",
        "perfect=\"\"\n",
        "prime=\"\"\n",
        "print(\"between\",a,\"and\",b)\n",
        "for i in range(a,b+1):\n",
        "  prime_num=True\n",
        "  for dvd in range(2,i):\n",
        "    if i%dvd==0:\n",
        "       prime_num=False\n",
        "       dvd+=1\n",
        "       break\n",
        "  if prime_num==True:\n",
        "      prime+=str(i)+\",\"\n",
        "      count_prime+=1\n",
        "for j in range(a,b+1):\n",
        "  dvd2=1\n",
        "  sum=0\n",
        "  while dvd2<j:\n",
        "      if j%dvd2==0:\n",
        "          sum+=dvd2\n",
        "      dvd2+=1\n",
        "  if sum==j:\n",
        "        perfect+=str(j)+\",\"\n",
        "        count_perfect+=1\n",
        "print(\"Found\" ,count_prime,\"prime numbers\")\n",
        "print(\"Found\" ,count_perfect,\"perfect numbers\")\n",
        "print(\"prime num: \",prime)\n",
        "print(\"perfect num: \",perfect)"
      ],
      "metadata": {
        "id": "qH6Iv50Q9Hrq"
      },
      "execution_count": null,
      "outputs": []
    },
    {
      "cell_type": "markdown",
      "source": [
        "#lab assignment 4"
      ],
      "metadata": {
        "id": "GzlK45Es_7gC"
      }
    },
    {
      "cell_type": "code",
      "execution_count": null,
      "metadata": {
        "id": "o-kJllgLNyUJ"
      },
      "outputs": [],
      "source": [
        "#task1\n",
        "user=str(input())\n",
        "print(user[::-1])"
      ]
    },
    {
      "cell_type": "code",
      "source": [
        "#task2\n",
        "u1=str(input())\n",
        "u2=int(input())\n",
        "print(u1[u2::-1]+u1[u2+1:])"
      ],
      "metadata": {
        "id": "vdHTmpmeOTRQ"
      },
      "execution_count": null,
      "outputs": []
    },
    {
      "cell_type": "code",
      "source": [
        "#task3\n",
        "user=str(input())\n",
        "count=0\n",
        "for i in user:\n",
        "  if i==\"0\" or i==\"1\":\n",
        "    count+=1\n",
        "  else:\n",
        "    print(\"Not a Binary Number\")\n",
        "    break\n",
        "if count==len(user):\n",
        "  print(\"Binary Number\")"
      ],
      "metadata": {
        "id": "wUK6ezHsi2f1"
      },
      "execution_count": null,
      "outputs": []
    },
    {
      "cell_type": "code",
      "source": [
        "#task4\n",
        "user=str(input(\"Enter a word:\"))\n",
        "if user[-2:]==\"er\":\n",
        "  print(user[:-2]+\"est\")\n",
        "elif len(user)<4:\n",
        "  print(user)\n",
        "else:\n",
        "  if user[-2:]==\"er\":\n",
        "    print(user[:-2]+\"est\")\n",
        "  elif user[-3:]==\"est\":\n",
        "    print(user)\n",
        "  else:\n",
        "    print(user+\"er\")"
      ],
      "metadata": {
        "id": "C8I8W1XgtTqo"
      },
      "execution_count": null,
      "outputs": []
    },
    {
      "cell_type": "code",
      "source": [
        "#task5\n",
        "user=str(input(\"Enter a word:\"))\n",
        "for c in range(len(user)+1):\n",
        "  print(user[:c])"
      ],
      "metadata": {
        "id": "vqr_LkoOwtWO"
      },
      "execution_count": null,
      "outputs": []
    },
    {
      "cell_type": "code",
      "source": [
        "#task6\n",
        "user=str(input(\"Enter a word:\"))\n",
        "for c in user:\n",
        "  print(c,\":\",ord(c))"
      ],
      "metadata": {
        "id": "mvBSSHSOCGre"
      },
      "execution_count": null,
      "outputs": []
    },
    {
      "cell_type": "code",
      "source": [
        "#task7\n",
        "user=str(input(\"Enter a word(All small letters):\"))\n",
        "for c in user:\n",
        "  b=ord(c)\n",
        "  if b==122:\n",
        "    b=96\n",
        "  print(chr(b+1),end=\"\")"
      ],
      "metadata": {
        "id": "7z1Vmn1KFSp5"
      },
      "execution_count": null,
      "outputs": []
    },
    {
      "cell_type": "code",
      "source": [
        "#task8\n",
        "a=str(input(\"enter a word(small letters):\"))\n",
        "for c in a[1::2]:\n",
        "  b=ord(c)\n",
        "  print(chr(b-32),end=\"\")"
      ],
      "metadata": {
        "id": "AUpNKLAhX9Iw"
      },
      "execution_count": null,
      "outputs": []
    },
    {
      "cell_type": "code",
      "source": [
        "#task9\n",
        "a=str(input(\"enter a string:\"))\n",
        "var=\"\"\n",
        "for i in range(1,len(a)):\n",
        "  if a[i]!=a[i-1]:\n",
        "    var+=a[i-1]\n",
        "var+=a[-1]\n",
        "print(var)"
      ],
      "metadata": {
        "id": "Y99JaPR0GYcP"
      },
      "execution_count": null,
      "outputs": []
    },
    {
      "cell_type": "code",
      "source": [
        "#task10\n",
        "u=str(input())\n",
        "i1=\"\"\n",
        "i2=\"\"\n",
        "r=0\n",
        "b=\"\"\n",
        "var=\"\"\n",
        "for i in range(len(u)):\n",
        "  if u[i]==\",\":\n",
        "    i1=u[:i]\n",
        "    i2=u[i+2:]\n",
        "if len(i1)>len(i2):\n",
        "  r=len(i2)\n",
        "  b=i1\n",
        "else:\n",
        "  r=len(i1)\n",
        "  b=i2\n",
        "for i in range(r):\n",
        "  var=var+i1[i]+i2[i]\n",
        "var+=b[r:]\n",
        "print(var)"
      ],
      "metadata": {
        "id": "umkJXKnhcR0o"
      },
      "execution_count": null,
      "outputs": []
    },
    {
      "cell_type": "code",
      "source": [
        "#ungrade1\n",
        "u1=str(input(\"Enter a string:\"))\n",
        "u2=str(input(\"Enter a word:\"))\n",
        "var=\"\"\n",
        "var2=\"\"\n",
        "for c in u1:\n",
        "  if u2==c:\n",
        "    var+=c\n",
        "  else:\n",
        "    var2+=c\n",
        "if len(var2)==len(u1) and len(var2)>3:\n",
        "  print(u1[1:-1])\n",
        "elif len(var2)<3:\n",
        "  print(var2)\n",
        "else:\n",
        "  print(var2)"
      ],
      "metadata": {
        "id": "sOBfmwR0V_rd"
      },
      "execution_count": null,
      "outputs": []
    },
    {
      "cell_type": "code",
      "source": [
        "#ungrade2\n",
        "u1=str(input(\"Enter strings:\"))\n",
        "u2=str(input(\"Enter splitter:\"))\n",
        "var1=\"\"\n",
        "for c in u1:\n",
        "  if u2!=c:\n",
        "    var1+=c\n",
        "  else:\n",
        "    print(var1)\n",
        "    var1=\"\"\n",
        "print(var1)"
      ],
      "metadata": {
        "id": "r7XPSsEuWR9y"
      },
      "execution_count": null,
      "outputs": []
    },
    {
      "cell_type": "code",
      "source": [
        "#ungrade3\n",
        "u1=str(input(\"Enter a string:\"))\n",
        "u2=int(input(\"Enter a number:\"))\n",
        "if u2%2==0:\n",
        "  for i in range(u2*2):\n",
        "    print(u1,end=\"\")\n",
        "else:\n",
        "  for i in range(u2*3):\n",
        "    print(u1,end=\"\")"
      ],
      "metadata": {
        "id": "q6E3nyu-WiNB"
      },
      "execution_count": null,
      "outputs": []
    },
    {
      "cell_type": "code",
      "source": [
        "#ungrade4\n",
        "u=str(input())\n",
        "out=\"\"\n",
        "flag=True\n",
        "for c in u:\n",
        "  if \"a\"<=c<=\"z\":\n",
        "    if flag:\n",
        "      out+=chr(ord(c)-32)\n",
        "    else:\n",
        "      out+=c\n",
        "    flag=not flag\n",
        "  elif \"A\"<=c<=\"Z\":\n",
        "    if flag:\n",
        "      out+=c\n",
        "    else:\n",
        "      out+=chr(ord(c)+32)\n",
        "    flag=not flag\n",
        "  else:\n",
        "    out+=c\n",
        "print(out)"
      ],
      "metadata": {
        "id": "MuEWuS7gXAKA"
      },
      "execution_count": null,
      "outputs": []
    },
    {
      "cell_type": "markdown",
      "source": [
        "# CSE110 Exams\n",
        "summer'23"
      ],
      "metadata": {
        "id": "kGT17r8AHgPv"
      }
    },
    {
      "cell_type": "code",
      "source": [
        "#quiz1A\n",
        "num=int(input())\n",
        "sum=0\n",
        "mul=1\n",
        "for n in range (1,num+1):\n",
        "  if n%2==0:\n",
        "    sum+=n\n",
        "  else:\n",
        "    mul*=n\n",
        "print(sum)\n",
        "print(mul)"
      ],
      "metadata": {
        "id": "KVp_BvZHWAkP"
      },
      "execution_count": null,
      "outputs": []
    },
    {
      "cell_type": "code",
      "source": [
        "#quiz1B\n",
        "num=int(input())\n",
        "sum=0\n",
        "mul=1\n",
        "for n in range (1,num+1):\n",
        "  if n%2==0:\n",
        "    mul*=n\n",
        "  else:\n",
        "    sum+=n\n",
        "print(sum)\n",
        "print(mul)"
      ],
      "metadata": {
        "id": "HkZzToBwWDaw"
      },
      "execution_count": null,
      "outputs": []
    },
    {
      "cell_type": "code",
      "source": [
        "#quiz2A\n",
        "user=input()\n",
        "vowel=\"AaEeIiOoUu\"\n",
        "new_user=\"\"\n",
        "for c in user:\n",
        "  if c not in vowel:\n",
        "    new_user+=c\n",
        "  else:\n",
        "    if 65<=ord(c)<=90:\n",
        "      new_user+=chr(ord(c)+32)\n",
        "    elif 97<=ord(c)<=122:\n",
        "      new_user+=chr(ord(c)-32)\n",
        "print(new_user)"
      ],
      "metadata": {
        "id": "cHn0pVkHYHdf"
      },
      "execution_count": null,
      "outputs": []
    },
    {
      "cell_type": "code",
      "source": [
        "#quiz2B\n",
        "user=input()\n",
        "vowel=\"AaEeIiOoUu\"\n",
        "new_user=\"\"\n",
        "for c in user:\n",
        "  if c in vowel:\n",
        "    new_user+=c\n",
        "  else:\n",
        "    if 65<=ord(c)<=90:\n",
        "      new_user+=chr(ord(c)+32)\n",
        "    elif 97<=ord(c)<=122:\n",
        "      new_user+=chr(ord(c)-32)\n",
        "print(new_user)"
      ],
      "metadata": {
        "id": "ytekMRsOYLuZ"
      },
      "execution_count": null,
      "outputs": []
    },
    {
      "cell_type": "code",
      "source": [
        "#solution1-TheoryMid\n",
        "num=str(input(\"Enter digits:\"))\n",
        "bin_dgt=\"\"\n",
        "dec_dgt=\"\"\n",
        "bin_sum=0\n",
        "dec_sum=0\n",
        "for c in num:\n",
        "  if c!=\"0\" and c!=\"1\":\n",
        "    dec_dgt+=c\n",
        "    dec_sum+=int(c)\n",
        "  else:\n",
        "    bin_dgt+=c\n",
        "    bin_sum+=int(c)\n",
        "print(\"Binary digits are:\",bin_dgt)\n",
        "print(\"Sum of binary digits:\",bin_sum)\n",
        "print(\"Non-Binary digits are:\",dec_dgt)\n",
        "print(\"Sum of non-binary digits:\",dec_sum)"
      ],
      "metadata": {
        "id": "n1Wf88aVR_jm"
      },
      "execution_count": null,
      "outputs": []
    },
    {
      "cell_type": "code",
      "source": [
        "#solution2-TheoryMid\n",
        "num=str(input(\"Enter digits:\"))\n",
        "bin_dgt=\"\"\n",
        "dec_dgt=\"\"\n",
        "bin_sum=0\n",
        "dec_sum=0\n",
        "for c in num:\n",
        "  if c!=\"0\" and c!=\"1\":\n",
        "    dec_dgt+=c\n",
        "  else:\n",
        "    bin_dgt+=c\n",
        "n1=int(bin_dgt)\n",
        "n2=int(dec_dgt)\n",
        "while n1!=0:\n",
        "  bin_sum+=n1%10\n",
        "  n1//=10\n",
        "while n2!=0:\n",
        "  dec_sum+=n2%10\n",
        "  n2//=10\n",
        "print(\"Binary digits are:\",bin_dgt)\n",
        "print(\"Sum of binary digits:\",bin_sum)\n",
        "print(\"Non-Binary digits are:\",dec_dgt)\n",
        "print(\"Sum of non-binary digits:\",dec_sum)"
      ],
      "metadata": {
        "id": "_hfyMrx4SEji"
      },
      "execution_count": null,
      "outputs": []
    },
    {
      "cell_type": "code",
      "source": [
        "#LabMidA\n",
        "user=input(\"Enter strings:\")\n",
        "sep=input(\"Enter splitter:\")\n",
        "out_var=\"\"\n",
        "count_var=\"\"\n",
        "for i in range(len(user)):\n",
        "  if user[i:i+len(sep)]!=sep:\n",
        "    if user[i] not in sep:\n",
        "      count_var+=user[i]\n",
        "    if len(count_var)>len(out_var):\n",
        "      out_var=count_var\n",
        "  else:\n",
        "    count_var=\"\"\n",
        "print(f'The longest word in the sentence is : {out_var}')"
      ],
      "metadata": {
        "id": "kThHittxSIt2"
      },
      "execution_count": null,
      "outputs": []
    },
    {
      "cell_type": "code",
      "source": [
        "#LabMidB\n",
        "user=input(\"Enter strings:\")\n",
        "sep=input(\"Enter splitter:\")\n",
        "out_var=\"\"\n",
        "count_var=\"\"\n",
        "for i in range(len(user)):\n",
        "  if user[i:i+len(sep)]!=sep:\n",
        "    if user[i] not in sep:\n",
        "      count_var+=user[i]\n",
        "  else:\n",
        "    if out_var==\"\" or len(out_var)>len(count_var):\n",
        "      out_var=count_var\n",
        "    count_var=\"\"\n",
        "print(f'The shortest word in the sentence is : {out_var}')"
      ],
      "metadata": {
        "id": "538VsxGhUH-I"
      },
      "execution_count": null,
      "outputs": []
    },
    {
      "cell_type": "code",
      "source": [
        "#quiz3A\n",
        "tournament=([\"5-2\"], [\"2-3\"], [\"2-5\"])\n",
        "score=\"\"\n",
        "p1_series=p2_series=0\n",
        "for lst in tournament:\n",
        "  for elm in lst:\n",
        "    score=elm\n",
        "    p1=int(score[0])\n",
        "    p2=int(score[2])\n",
        "    if p1>p2:\n",
        "      print(f'P1 won the match by {p1-p2} points')\n",
        "      p1_series+=1\n",
        "    elif p2>p1:\n",
        "      print(f'P2 won the match by {p2-p1} points')\n",
        "      p2_series+=1\n",
        "    else:\n",
        "      print(\"Draw\")\n",
        "    score=\"\"\n",
        "    p1=0\n",
        "    p2=0\n",
        "if p1_series>p2_series:\n",
        "  print(\"Winner : Player 1\")\n",
        "elif p2_series>p1_series:\n",
        "  print(\"Winner : Player 2\")\n",
        "else:\n",
        "  print(\"Winner : No-One\")"
      ],
      "metadata": {
        "id": "4NXWNcxJYZ03"
      },
      "execution_count": null,
      "outputs": []
    },
    {
      "cell_type": "code",
      "source": [
        "#quiz3B\n",
        "tournament=([\"5:2\"], [\"3:4\"], [\"2:3\"])\n",
        "score=\"\"\n",
        "p1_series=p2_series=0\n",
        "for lst in tournament:\n",
        "  for elm in lst:\n",
        "    score=elm\n",
        "    p1=int(score[0])\n",
        "    p2=int(score[2])\n",
        "    if p1>p2:\n",
        "      print(f'P2 lost the match by {p1-p2} points')\n",
        "      p1_series+=1\n",
        "    elif p2>p1:\n",
        "      print(f'P1 lost the match by {p2-p1} points')\n",
        "      p2_series+=1\n",
        "    else:\n",
        "      print(\"Draw\")\n",
        "    score=\"\"\n",
        "    p1=0\n",
        "    p2=0\n",
        "if p1_series>p2_series:\n",
        "  print(\"Loser : Player 2\")\n",
        "elif p2_series>p1_series:\n",
        "  print(\"Loser : Player 1\")\n",
        "else:\n",
        "  print(\"Loser : No-One\")"
      ],
      "metadata": {
        "id": "RJ8kZ-8RatBy"
      },
      "execution_count": null,
      "outputs": []
    },
    {
      "cell_type": "code",
      "source": [
        "#quiz4A\n",
        "def grades(user):\n",
        "  out_dct={}\n",
        "  n=[]\n",
        "  for info in user:\n",
        "    n=info.split(\"_\")\n",
        "    if n[1] not in out_dct:\n",
        "      out_dct[n[1]]=[n[0]]\n",
        "    else:\n",
        "      out_dct[n[1]].append(n[0])\n",
        "    n=[]\n",
        "  print(out_dct)\n",
        "  for k,v in out_dct.items():\n",
        "    print(f'{len(v)} student(s) got {k}')\n",
        "user=\"111_A,321_B+,213_A,143_C,167_B+\".split(\",\")\n",
        "grades(user)"
      ],
      "metadata": {
        "id": "nlTSFbw6bPMV"
      },
      "execution_count": null,
      "outputs": []
    },
    {
      "cell_type": "code",
      "source": [
        "#quiz4B\n",
        "def grades(user):\n",
        "  out_dct={}\n",
        "  n=[]\n",
        "  for info in user:\n",
        "    n=info.split(\"#\")\n",
        "    if n[1] not in out_dct:\n",
        "      out_dct[n[1]]=[n[0]]\n",
        "    else:\n",
        "      out_dct[n[1]].append(n[0])\n",
        "    n=[]\n",
        "  print(out_dct)\n",
        "  for k,v in out_dct.items():\n",
        "    print(f'{len(v)} student(s) got {k}')\n",
        "user=\"111#A,321#B,213#A,143#C+,167#B\".split(\",\")\n",
        "grades(user)"
      ],
      "metadata": {
        "id": "2sYETVqKbwl8"
      },
      "execution_count": null,
      "outputs": []
    },
    {
      "cell_type": "code",
      "source": [
        "#LabFinalA\n",
        "def bracu_library(books):\n",
        "  out_dct1={}\n",
        "  out_dct2={}\n",
        "  quantity=0\n",
        "  for k,v in books.items():\n",
        "    if v[0] not in out_dct1:\n",
        "      out_dct1[v[0]]=[k]\n",
        "      quantity+=v[1]\n",
        "    elif len(out_dct1[v[0]])<2:\n",
        "      out_dct1[v[0]].append(k)\n",
        "      quantity+=v[1]\n",
        "  for a,b in out_dct1.items():\n",
        "    if a not in out_dct2:\n",
        "      out_dct2[a]=tuple(b)\n",
        "  print(out_dct2)\n",
        "  print(f'Total quantity : {quantity}')\n",
        "books={'The Algorithm Design Manual': ['CSE221', 17],'System Analysis and Design': ['CSE471', 13],'Introduction to Algorithms': ['CSE221', 24],'Operating Systems Concept': ['CSE321', 15],'Introduction To Automata Theory': ['CSE331', 27]}\n",
        "bracu_library(books)"
      ],
      "metadata": {
        "id": "XwO3xxHVguPU"
      },
      "execution_count": null,
      "outputs": []
    },
    {
      "cell_type": "code",
      "source": [
        "#LabFinalB\n",
        "def bookStore(given_dc):\n",
        "  out_dct1={}\n",
        "  out_dct2={}\n",
        "  discount=0\n",
        "  for k,v in given_dc.items():\n",
        "    if v[0] not in out_dct1:\n",
        "      out_dct1[v[0]]=[k]\n",
        "      discount+=v[1]\n",
        "    elif len(out_dct1[v[0]])<2:\n",
        "      out_dct1[v[0]].append(k)\n",
        "      discount+=v[1]\n",
        "  for a,b in out_dct1.items():\n",
        "    if a not in out_dct2:\n",
        "      out_dct2[a]=tuple(b)\n",
        "  print(out_dct2)\n",
        "  print(f'Total Discount : {discount}')\n",
        "given_dc = {'Fallen': ['Mystery', 60],'The Silent Patient': ['Thriller', 55],'Treasure Island': ['Adventure', 20],'The Woman in the Library': ['Mystery', 70],'Upgrade': ['Sci-fi',35]}\n",
        "bookStore(given_dc)"
      ],
      "metadata": {
        "id": "KNS8eiq--CJg"
      },
      "execution_count": null,
      "outputs": []
    },
    {
      "cell_type": "markdown",
      "source": [
        "# lab assignment 5"
      ],
      "metadata": {
        "id": "v2ek2QOaq0ME"
      }
    },
    {
      "cell_type": "code",
      "source": [
        "#task1\n",
        "num=[]\n",
        "for i in range(5):\n",
        "  n=int(input(\"Enter number:\"))\n",
        "  num.append(n)\n",
        "  print(\"Numbers in the list:\",num)"
      ],
      "metadata": {
        "id": "IYB0cX5pq7sO"
      },
      "execution_count": null,
      "outputs": []
    },
    {
      "cell_type": "code",
      "source": [
        "#task2\n",
        "num=input()\n",
        "new=\"\"\n",
        "lst=[]\n",
        "for c in num:\n",
        "  if c!=\",\":\n",
        "    new+=c\n",
        "  else:\n",
        "    lst.append(int(new))\n",
        "    new=\"\"\n",
        "lst.append(int(new))\n",
        "if len(lst)>=4:\n",
        "  print(lst[2:-2])\n",
        "else:\n",
        "  print(\"Not Possible\")"
      ],
      "metadata": {
        "id": "YcpF3Lpx0aJQ"
      },
      "execution_count": null,
      "outputs": []
    },
    {
      "cell_type": "code",
      "source": [
        "#task2alternative\n",
        "num=input()\n",
        "new_num=num.split(\", \")\n",
        "lst=[]\n",
        "for c in new_num:\n",
        "  lst.append(int(c))\n",
        "if len(lst)>=4:\n",
        "  print(lst[2:-2])\n",
        "else:\n",
        "  print(\"Not Possible\")"
      ],
      "metadata": {
        "id": "i-rdgUYGhABT"
      },
      "execution_count": null,
      "outputs": []
    },
    {
      "cell_type": "code",
      "source": [
        "#task3\n",
        "new=[]\n",
        "for i in range(5):\n",
        "  k=int(input(\"Enter a digit:\"))\n",
        "  new.append(k)\n",
        "print(\"Printing values from the list in reverse order:\")\n",
        "for c in new[::-1]:\n",
        "  print(c)"
      ],
      "metadata": {
        "id": "WTkF39hm1opE"
      },
      "execution_count": null,
      "outputs": []
    },
    {
      "cell_type": "code",
      "source": [
        "#task4\n",
        "given_list=[9, 3, 5, 1, 6]\n",
        "new_list=[]\n",
        "for c in given_list:\n",
        "  new_list.append(c**2)\n",
        "print(new_list)"
      ],
      "metadata": {
        "id": "6lHgvhty1rgx"
      },
      "execution_count": null,
      "outputs": []
    },
    {
      "cell_type": "code",
      "source": [
        "#task5\n",
        "given_list=[\"hey\", \"there\", \"\", \"what's\", \"\", \"up\", \"\", \"?\"]\n",
        "new_list=[]\n",
        "for c in given_list:\n",
        "  if c!=\"\":\n",
        "    new_list.append(c)\n",
        "print(\"Original List:\",given_list)\n",
        "print(\"Modified List:\",new_list)"
      ],
      "metadata": {
        "id": "BhFh7EEh6tzE"
      },
      "execution_count": null,
      "outputs": []
    },
    {
      "cell_type": "code",
      "source": [
        "#task6\n",
        "user=input()\n",
        "new_string=\"\"\n",
        "my_list=[]\n",
        "idx=0\n",
        "for c in user:\n",
        "  if c!=\",\":\n",
        "    new_string+=c\n",
        "  else:\n",
        "    my_list.append(int(new_string))\n",
        "    new_string=\"\"\n",
        "my_list.append(int(new_string))\n",
        "print(\"My list:\",my_list)\n",
        "large=my_list[0]\n",
        "for i in range(len(my_list)):\n",
        "  if my_list[i]>large:\n",
        "    large=my_list[i]\n",
        "    idx=i\n",
        "print(f\"Largest number in the list is {large},which was found at index {idx}.\")"
      ],
      "metadata": {
        "id": "S5WhVfz96yuf"
      },
      "execution_count": null,
      "outputs": []
    },
    {
      "cell_type": "code",
      "source": [
        "#task6alternative\n",
        "user=input()\n",
        "new_user=user.split(\",\")\n",
        "my_list=[]\n",
        "idx=0\n",
        "for c in new_user:\n",
        "  my_list.append(int(c))\n",
        "print(\"My List:\",my_list)\n",
        "large=my_list[0]\n",
        "for i in range(len(my_list)):\n",
        "  if my_list[i]>large:\n",
        "    large=my_list[i]\n",
        "    idx=i\n",
        "print(\"Largest number in the list is\",large,\"which was found at index\",str(idx)+\".\")"
      ],
      "metadata": {
        "id": "heMtR2wki7Ms"
      },
      "execution_count": null,
      "outputs": []
    },
    {
      "cell_type": "code",
      "source": [
        "#task7\n",
        "List_one=[1, 3, 5, 7, 9, 10]\n",
        "List_two=[2, 4, 6, 8]\n",
        "List_final=List_one[0:-1]\n",
        "for c in List_two:\n",
        "  List_final.append(c)\n",
        "print(List_final)"
      ],
      "metadata": {
        "id": "fNZ9w0IV_YP1"
      },
      "execution_count": null,
      "outputs": []
    },
    {
      "cell_type": "code",
      "source": [
        "#task8\n",
        "list_one=[1, 2, 3, 4, 5, 6, 7, 8, 9]\n",
        "list_two=[10, 11, 12, -13, -14, -15, -16]\n",
        "list_all=list_one+list_two\n",
        "list_even=[]\n",
        "for n in list_all:\n",
        "  if n%2==0:\n",
        "    list_even.append(n)\n",
        "print(list_even)"
      ],
      "metadata": {
        "id": "DcIVlpk5Airn"
      },
      "execution_count": null,
      "outputs": []
    },
    {
      "cell_type": "code",
      "source": [
        "#task9\n",
        "num=input()\n",
        "out=\"\"\n",
        "all=[]\n",
        "odd=[]\n",
        "for c in num:\n",
        "  if c!=\" \":\n",
        "    out+=c\n",
        "  else:\n",
        "    all.append(int(out))\n",
        "    out=\"\"\n",
        "all.append(int(out))\n",
        "for n in all:\n",
        "  if n%2!=0:\n",
        "    odd.append(n)\n",
        "print(\"Original list:\",all)\n",
        "print(\"Modified list:\",odd)"
      ],
      "metadata": {
        "id": "fCSJIhkrDmFV"
      },
      "execution_count": null,
      "outputs": []
    },
    {
      "cell_type": "code",
      "source": [
        "#task10\n",
        "user=input()\n",
        "new_user=user.split(\", \")\n",
        "new_list=[]\n",
        "for c in new_user:\n",
        "  new_list.append(int(c))\n",
        "mod_list=[]\n",
        "for c in new_list:\n",
        "  if c not in mod_list:\n",
        "    mod_list.append(c)\n",
        "print(\"Input list:\",new_list)\n",
        "print(\"Modified list:\",mod_list)"
      ],
      "metadata": {
        "id": "TWG6Oyw0E_eN"
      },
      "execution_count": null,
      "outputs": []
    },
    {
      "cell_type": "code",
      "source": [
        "#task11\n",
        "List_one=[1, 4, 3, 2, 6]\n",
        "List_two=[6, 5, 9, 8, 7]\n",
        "Flag=False\n",
        "for c in List_one:\n",
        "  if c in List_two:\n",
        "    Flag=True\n",
        "    break\n",
        "print(Flag)"
      ],
      "metadata": {
        "id": "46gS8nDqkK4k"
      },
      "execution_count": null,
      "outputs": []
    },
    {
      "cell_type": "code",
      "source": [
        "#ungrade1\n",
        "user=input()\n",
        "new_user1=user.split(\", \")\n",
        "new_user2=[]\n",
        "idx1=0\n",
        "for c in new_user1:\n",
        "  new_user2.append(int(c))\n",
        "large1=new_user2[0]\n",
        "for i in range(len(new_user2)):\n",
        "  if large1<new_user2[i]:\n",
        "    large1=new_user2[i]\n",
        "    idx1=i\n",
        "new_user3=[]\n",
        "for c in new_user2:\n",
        "  if c!=large1:\n",
        "    new_user3.append(c)\n",
        "large2=new_user3[0]\n",
        "idx2=0\n",
        "for i in range(len(new_user3)):\n",
        "  if large2<new_user3[i]:\n",
        "    large2=new_user3[i]\n",
        "    idx2=i\n",
        "print(f'My list : {new_user2}')\n",
        "print(f'Second largest number in the list is {large2},which was found at {idx2}.')"
      ],
      "metadata": {
        "id": "e709WjsCFZpJ"
      },
      "execution_count": null,
      "outputs": []
    },
    {
      "cell_type": "code",
      "source": [
        "#ungrade1\n",
        "user=input().split(\", \")\n",
        "new_user1=[]\n",
        "idx1=0\n",
        "for c in user:\n",
        "  new_user1.append(int(c))\n",
        "large1=new_user1[0]\n",
        "for i in range(len(new_user1)):\n",
        "  if large1<new_user1[i]:\n",
        "    large1=new_user1[i]\n",
        "    idx1=i\n",
        "new_user2=[]\n",
        "for c in new_user1:\n",
        "  if c!=large1:\n",
        "    new_user2.append(c)\n",
        "large2=new_user2[0]\n",
        "idx2=0\n",
        "for i in range(len(new_user2)):\n",
        "  if large2<new_user2[i]:\n",
        "    large2=new_user2[i]\n",
        "    idx2=i\n",
        "print(f'My list : {new_user1}')\n",
        "print(f'Second largest number in the list is {large2},which was found at {idx2}.')"
      ],
      "metadata": {
        "id": "0TPC6F4Zs6Ys"
      },
      "execution_count": null,
      "outputs": []
    },
    {
      "cell_type": "code",
      "source": [
        "#ungrade2\n",
        "user=input()\n",
        "new_user1=user.split(\", \")\n",
        "new_user2=[]\n",
        "idx_large=0\n",
        "idx_least=0\n",
        "for c in new_user1:\n",
        "  new_user2.append(int(c))\n",
        "large=new_user2[0]\n",
        "least=new_user2[0]\n",
        "for i in range(len(new_user2)):\n",
        "  if large<new_user2[i]:\n",
        "    large=new_user2[i]\n",
        "    idx_large=i\n",
        "  elif least>new_user2[i]:\n",
        "    least=new_user2[i]\n",
        "    least_idx=i\n",
        "print(f'My list : {new_user2}')\n",
        "print(f'Smallest number in the list is {least},which was found at index {least_idx}.')\n",
        "print(f'Largest number in the list is {large},which was found at {idx_large}.')"
      ],
      "metadata": {
        "id": "K2YasxsfHfLu"
      },
      "execution_count": null,
      "outputs": []
    },
    {
      "cell_type": "code",
      "source": [
        "#ungrade3\n",
        "user1=input()\n",
        "user2=input()\n",
        "new_user1=user1.split(\", \")\n",
        "new_user2=user2.split(\", \")\n",
        "similar=[]\n",
        "for c in new_user1:\n",
        "  if c in new_user2:\n",
        "    similar.append(c)\n",
        "print(similar)"
      ],
      "metadata": {
        "id": "i2zx63mUKLq0"
      },
      "execution_count": null,
      "outputs": []
    },
    {
      "cell_type": "code",
      "source": [
        "#ungrade4\n",
        "list_one=[1, 2, 2, 4, 5, 5, 7, 99, 200, 303, 70]\n",
        "list_two=[1, 1, 2, 3, 3, 3, 4, 5, 200, 500, -5]\n",
        "unique=[]\n",
        "for c in list_one:\n",
        "  if c not in unique:\n",
        "    unique.append(c)\n",
        "for c in list_two:\n",
        "  if c not in unique:\n",
        "    unique.append(c)\n",
        "print(unique)"
      ],
      "metadata": {
        "id": "8k9VG9xbLGSY"
      },
      "execution_count": null,
      "outputs": []
    },
    {
      "cell_type": "code",
      "source": [
        "#ungrade5\n",
        "user=\"1,        2 ,            3, 50, 4\"\n",
        "new_user=user.strip(\" [] \")\n",
        "new_list=[]\n",
        "print(f'Original data: {user}')\n",
        "print(f'After removing square brackets: {new_user}')\n",
        "print(f'Numbers in string format with extra white spaces: {new_user.split(\",\")}')\n",
        "for c in new_user.split(\",\"):\n",
        "  if c!=\",\" or c!=\" \":\n",
        "    new_list.append(int(c))\n",
        "print(f'Final data (numbers in list format): {new_list}')"
      ],
      "metadata": {
        "id": "H6Ahm49zQ01w"
      },
      "execution_count": null,
      "outputs": []
    },
    {
      "cell_type": "code",
      "source": [
        "#ungrade6\n",
        "user=input()\n",
        "list1=[]\n",
        "for c in user.split(\",\"):\n",
        "  if c!=\",\" or c!=\" \":\n",
        "    list1.append(int(c))\n",
        "list2=[]\n",
        "for e in list1:\n",
        "  if e not in list2:\n",
        "    list2.append(e)\n",
        "print(f'Given numbers in list: {list1}')\n",
        "print(f'List without any dupliacte values: {list2}')"
      ],
      "metadata": {
        "id": "VhmlOrnLUdPV"
      },
      "execution_count": null,
      "outputs": []
    },
    {
      "cell_type": "markdown",
      "source": [
        "# lab assignment 6"
      ],
      "metadata": {
        "id": "bV50w58iu3PO"
      }
    },
    {
      "cell_type": "code",
      "source": [
        "#task1\n",
        "a_tuple = (\"The Institute\", (\"Best Mystery & Thriller\", \"The Silent Patient\", 68821), 75717, [1, 2, 3, 400, 5, 6, 7], (\"Best Fiction\", \"The Testaments\", 98291))\n",
        "print(a_tuple[3][3])"
      ],
      "metadata": {
        "id": "BRgHXXse8sJ5"
      },
      "execution_count": null,
      "outputs": []
    },
    {
      "cell_type": "code",
      "source": [
        "#task2\n",
        "user=(-10, 20, 25, 30, 40)\n",
        "print(user[2:-2])"
      ],
      "metadata": {
        "id": "f9wAizxrz8o7"
      },
      "execution_count": null,
      "outputs": []
    },
    {
      "cell_type": "code",
      "source": [
        "#task3\n",
        "book_info = ((\"Best Mystery & Thriller\",\"The Silent Patient\",68,821),(\"Best Horror\",\"The Institute\",75,717),(\"Best History & Biography\",\"The five\",31,783 ),(\"Best Fiction\",\"The Testaments\",98,291))\n",
        "print(\"Size of the tuple is:\",len(book_info))\n",
        "for c in book_info:\n",
        "  print(c)"
      ],
      "metadata": {
        "id": "2CrHFHnfz9ph"
      },
      "execution_count": null,
      "outputs": []
    },
    {
      "cell_type": "code",
      "source": [
        "#task4\n",
        "book_info=((\"Best Mystery & Thriller\",\"The Silent Patient\",68821),(\"Best Horror\",\"The Institute\",75717),(\"Best History & Biography\",\"The five\",31783 ),(\"Best Fiction\",\"The Testaments\",98291))\n",
        "for c in book_info:\n",
        "  cat,book,vote=c\n",
        "  print(f\"{book} won the '{cat}' category with {vote} votes\")"
      ],
      "metadata": {
        "id": "pmw3YqTt0GIL"
      },
      "execution_count": null,
      "outputs": []
    },
    {
      "cell_type": "code",
      "source": [
        "#task5\n",
        "Given=(10, 8, 5, 2, 10, 15, 10, 8, 5, 8, 8, 2)\n",
        "count=0\n",
        "n=int(input())\n",
        "for c in Given:\n",
        "  if n==c:\n",
        "    count+=1\n",
        "print(n,\"appears\",count,\"times in the tuple\")"
      ],
      "metadata": {
        "id": "VoMknSJgvEdE"
      },
      "execution_count": null,
      "outputs": []
    },
    {
      "cell_type": "code",
      "source": [
        "#task6\n",
        "given=('a', 'b', 'c', 'd', 'e', 'f', 'g', 'h')\n",
        "new_list=list(given)\n",
        "reversed=[]\n",
        "for i in range(len(new_list)-1,-1,-1):\n",
        "  reversed.append(new_list[i])\n",
        "print(tuple(reversed))"
      ],
      "metadata": {
        "id": "pkDx0eXj0RMJ"
      },
      "execution_count": null,
      "outputs": []
    },
    {
      "cell_type": "code",
      "source": [
        "#task7\n",
        "dic1={'A':90, 'B': 0}\n",
        "dic2={'C':50}\n",
        "new_dic={}\n",
        "for k,v in dic1.items():\n",
        "  new_dic[k]=v\n",
        "for k,v in dic2.items():\n",
        "  new_dic[k]=v\n",
        "print(new_dic)"
      ],
      "metadata": {
        "id": "pptVvFcl0Vpv"
      },
      "execution_count": null,
      "outputs": []
    },
    {
      "cell_type": "code",
      "source": [
        "#task8\n",
        "d=input().split(\", \")\n",
        "dic={}\n",
        "sum=0\n",
        "count=0\n",
        "for c in d:\n",
        "  v=c.split(\":\")\n",
        "  dic[v[0]]=int(v[1])\n",
        "for v in dic.values():\n",
        "  sum+=v\n",
        "  count+=1\n",
        "avg=int(sum/count)\n",
        "print(f\"Average is {avg}.\")"
      ],
      "metadata": {
        "id": "Yjq5aWozu_yk"
      },
      "execution_count": null,
      "outputs": []
    },
    {
      "cell_type": "code",
      "source": [
        "#task9\n",
        "exam_marks={'Cierra Vega': 175, 'Alden Cantrell': 200, 'Kierra Gentry': 165, 'Pierre Cox': 190}\n",
        "marks_dic={}\n",
        "user=int(input())\n",
        "for k,v in exam_marks.items():\n",
        "  if v>=user:\n",
        "    marks_dic[k]=v\n",
        "print(marks_dic)"
      ],
      "metadata": {
        "id": "mVynulQB0amz"
      },
      "execution_count": null,
      "outputs": []
    },
    {
      "cell_type": "code",
      "source": [
        "#task10\n",
        "dct={'sci fi': 5, 'mystery': 3, 'horror': 14, 'young_adult': 2, 'adventure':9}\n",
        "large=0\n",
        "large_key=\"\"\n",
        "for k,v in dct.items():\n",
        "  if v>large:\n",
        "    large=v\n",
        "    large_key=k\n",
        "print(f\"The highest selling book genre is '{large_key}' and the number of books sold are {large}.\")"
      ],
      "metadata": {
        "id": "grmyL-Ev0eaI"
      },
      "execution_count": null,
      "outputs": []
    },
    {
      "cell_type": "code",
      "source": [
        "#task11\n",
        "user=input()\n",
        "new_user=user.lower()\n",
        "dct={}\n",
        "for c in new_user:\n",
        "  if \"a\"<=c<=\"z\":\n",
        "    if c not in dct:\n",
        "      dct[c]=1\n",
        "    else:\n",
        "      dct[c]+=1\n",
        "print(dct)"
      ],
      "metadata": {
        "id": "_52rsStjR-UT"
      },
      "execution_count": null,
      "outputs": []
    },
    {
      "cell_type": "code",
      "source": [
        "#task11alternative\n",
        "user=input()\n",
        "new_user=\"\"\n",
        "dct={}\n",
        "for c in user:\n",
        "  if \"A\"<=c<=\"Z\":\n",
        "    c=ord(c)+32\n",
        "    new_user+=chr(c)\n",
        "  elif c!=\" \":\n",
        "    new_user+=c\n",
        "for c in new_user:\n",
        "  if c not in dct:\n",
        "    dct[c]=1\n",
        "  else:\n",
        "    dct[c]+=1\n",
        "print(dct)"
      ],
      "metadata": {
        "id": "NayDZYfhSCKp"
      },
      "execution_count": null,
      "outputs": []
    },
    {
      "cell_type": "code",
      "source": [
        "#task12\n",
        "dict_1={'A': [1, 2, 3], 'b': ['1', '2'], \"c\": [4, 5, 6, 7]}\n",
        "count=0\n",
        "for v in dict_1.values():\n",
        "  for c in v:\n",
        "    count+=1\n",
        "print(count)"
      ],
      "metadata": {
        "id": "HC13Btho0h5A"
      },
      "execution_count": null,
      "outputs": []
    },
    {
      "cell_type": "code",
      "source": [
        "#task13\n",
        "list_1=[(\"a\", 1), (\"b\", 2), (\"a\", 3), (\"b\", 1), (\"a\", 2), (\"c\", 1)]\n",
        "dct={}\n",
        "for e in list_1:\n",
        "  key,value=e\n",
        "  if key not in dct.keys():\n",
        "    dct[key]=[value]\n",
        "  else:\n",
        "    dct[key].append(value)\n",
        "print(dct)"
      ],
      "metadata": {
        "id": "QZLzVvyc0o5b"
      },
      "execution_count": null,
      "outputs": []
    },
    {
      "cell_type": "code",
      "source": [
        "#ungrade1\n",
        "Given=[(11, 22), (33, 55), (55, 77), (11, 44)]\n",
        "mtp_list=[]\n",
        "for c in Given:\n",
        "  n1=c[0]\n",
        "  n2=c[1]\n",
        "  mtp_list.append(n1*n2)\n",
        "print(mtp_list)"
      ],
      "metadata": {
        "id": "5Y2XHFtWOC-Q"
      },
      "execution_count": null,
      "outputs": []
    },
    {
      "cell_type": "code",
      "source": [
        "#ungrade2\n",
        "a_tuple=([1, 2, 3], [4, 5, 6], [7, 8, 9], [10, 11, 12])\n",
        "user=input()\n",
        "for elm in a_tuple:\n",
        "  elm[-1]=user\n",
        "print(a_tuple)"
      ],
      "metadata": {
        "id": "WoZ6X0URPKlv"
      },
      "execution_count": null,
      "outputs": []
    },
    {
      "cell_type": "code",
      "source": [
        "#ungrade3\n",
        "my_dictionary={'c1':'Red', 'c2':'Green', 'c3':None, 'd4':'Blue', 'a5':None}\n",
        "new_dictionary={}\n",
        "for k,v in my_dictionary.items():\n",
        "  if v!=None:\n",
        "    new_dictionary[k]=v\n",
        "print(new_dictionary)"
      ],
      "metadata": {
        "id": "QuNYZu35QFMS"
      },
      "execution_count": null,
      "outputs": []
    },
    {
      "cell_type": "code",
      "source": [
        "#ungrade4\n",
        "dict_1={'a' : 6, 'b' : 7, 'c' : 9, 'd' : 8, 'e' : 11, 'f' : 12, 'g' : 13}\n",
        "dict_2={}\n",
        "user1=input().split(\", \")\n",
        "user2=[]\n",
        "for c in user1:\n",
        "  user2.append(int(c))\n",
        "for k,v in dict_1.items():\n",
        "  if user2[0]<=v<=user2[1]:\n",
        "    dict_2[k]=v\n",
        "print(dict_2)"
      ],
      "metadata": {
        "id": "bvl9VAsDS-XZ"
      },
      "execution_count": null,
      "outputs": []
    },
    {
      "cell_type": "code",
      "source": [
        "#ungrade5\n",
        "Given=[(20, 'Sad'), (31, 'Sad'), (88, 'NotSad'), (27, 'NotSad')]\n",
        "new_dct={}\n",
        "for c in Given:\n",
        "  value,key=c\n",
        "  if key not in new_dct.keys():\n",
        "    new_dct[key]=[c]\n",
        "  else:\n",
        "    new_dct[key].append(c)\n",
        "print(new_dct)"
      ],
      "metadata": {
        "id": "9FDPHRIPZjlK"
      },
      "execution_count": null,
      "outputs": []
    },
    {
      "cell_type": "markdown",
      "source": [
        "#lab assignment 7"
      ],
      "metadata": {
        "id": "RK_YPJGb7FoC"
      }
    },
    {
      "cell_type": "code",
      "source": [
        "#task1\n",
        "def even_checker(x):\n",
        "  if x%2==0:\n",
        "    print(\"Even!!\")\n",
        "  else:\n",
        "    print(\"Odd!!\")\n",
        "x=int(input())\n",
        "even_checker(x)"
      ],
      "metadata": {
        "id": "NUwFlx_y7D6D"
      },
      "execution_count": null,
      "outputs": []
    },
    {
      "cell_type": "code",
      "source": [
        "#task2\n",
        "def fibonacci(x):\n",
        "  a,b=0,1\n",
        "  print(a,end=\" \")\n",
        "  if x>=b:\n",
        "    print(b,end=\" \")\n",
        "  for n in range(x-2):\n",
        "    c=a+b\n",
        "    if x<c:\n",
        "      break\n",
        "    print(c,end=\" \")\n",
        "    a,b=b,c\n",
        "x=int(input())\n",
        "fibonacci(x)"
      ],
      "metadata": {
        "id": "L_xJlbnd7su2"
      },
      "execution_count": null,
      "outputs": []
    },
    {
      "cell_type": "code",
      "source": [
        "#task3\n",
        "def foo_moo(num):\n",
        "  if num%2==0 and num%3==-0:\n",
        "    return \"FooMoo\"\n",
        "  elif num%2==0:\n",
        "    return \"Foo\"\n",
        "  elif num%3==-0:\n",
        "    return \"Moo\"\n",
        "  else:\n",
        "    return \"Boo\"\n",
        "num=int(input())\n",
        "print(foo_moo(num))"
      ],
      "metadata": {
        "id": "I1qylbke7yrJ"
      },
      "execution_count": null,
      "outputs": []
    },
    {
      "cell_type": "code",
      "source": [
        "#task4\n",
        "def function_name(name):\n",
        "  count_up=0\n",
        "  count_low=0\n",
        "  for c in name:\n",
        "    if 65<=ord(c)<=90:\n",
        "      count_up+=1\n",
        "    if 97<=ord(c)<=122:\n",
        "      count_low+=1\n",
        "  print(f'No. of Uppercase characters : {count_up}')\n",
        "  print(f'No. of Lowercase Characters: {count_low}')\n",
        "name=input()\n",
        "function_name(name)"
      ],
      "metadata": {
        "id": "otAX0SYz8JLL"
      },
      "execution_count": null,
      "outputs": []
    },
    {
      "cell_type": "code",
      "source": [
        "#task5\n",
        "def calculate_tax(age,salary,job):\n",
        "  if age<18:\n",
        "    return 0\n",
        "  else:\n",
        "    if job==\"president\":\n",
        "      return 0\n",
        "    else:\n",
        "      if salary<10000:\n",
        "        return 0\n",
        "      elif 10000<=salary<=20000:\n",
        "        return salary*0.05\n",
        "      else:\n",
        "        return salary*0.10\n",
        "age=int(input())\n",
        "salary=int(input())\n",
        "job=input().lower()\n",
        "print(calculate_tax(age,salary,job))"
      ],
      "metadata": {
        "id": "WgcB71GE8Nze"
      },
      "execution_count": null,
      "outputs": []
    },
    {
      "cell_type": "code",
      "source": [
        "#task6\n",
        "def number_of_days(days):\n",
        "  print(f'{days//365} years, {(days%365)//30} months and {(days%365)%30} days')\n",
        "days=int(input())\n",
        "number_of_days(days)"
      ],
      "metadata": {
        "id": "2pTEvoot8T6f"
      },
      "execution_count": null,
      "outputs": []
    },
    {
      "cell_type": "code",
      "source": [
        "#task7\n",
        "def show_palindrome(num):\n",
        "  pal=\"\"\n",
        "  for i in range(1,num+1):\n",
        "    pal+=str(i)\n",
        "  print(pal+pal[-2::-1])\n",
        "num=int(input())\n",
        "show_palindrome(num)"
      ],
      "metadata": {
        "id": "1bqG597t8XcA"
      },
      "execution_count": null,
      "outputs": []
    },
    {
      "cell_type": "code",
      "source": [
        "#task8\n",
        "def show_palindrome(num):\n",
        "  pal=\"\"\n",
        "  for i in range(1,num+1):\n",
        "    pal+=str(i)+' '\n",
        "  for j in range(num-1,0,-1):\n",
        "    pal+=str(j)+' '\n",
        "  return pal\n",
        "def show_palindromic_triangle(num):\n",
        "  for m in range(1,num+1):\n",
        "    print(\" \"*2*(num-m),end=\"\")\n",
        "    print(show_palindrome(m))\n",
        "num=int(input())\n",
        "show_palindromic_triangle(num)"
      ],
      "metadata": {
        "id": "3nj5of3V8ttr"
      },
      "execution_count": null,
      "outputs": []
    },
    {
      "cell_type": "code",
      "source": [
        "#task9\n",
        "import math\n",
        "def area_circumference_generator(radius):\n",
        "  area=math.pi*radius**2\n",
        "  circ=radius*math.pi*2\n",
        "  return area,circ\n",
        "radius=float(input(\"Enter radius : \"))\n",
        "print(area_circumference_generator(radius))\n",
        "a,c=area_circumference_generator(radius)\n",
        "print(f'Area of the circle is {a} and circumference is {c}')"
      ],
      "metadata": {
        "id": "LANLGpE-807B"
      },
      "execution_count": null,
      "outputs": []
    },
    {
      "cell_type": "code",
      "source": [
        "#task10\n",
        "def make_square(start,end):\n",
        "  out_dct={}\n",
        "  for i in range(start,end+1):\n",
        "    out_dct[i]=i**2\n",
        "  return out_dct\n",
        "start=int(input(\"Start digit:\"))\n",
        "end=int(input(\"End digit\"))\n",
        "print(make_square(start,end))"
      ],
      "metadata": {
        "id": "Mu7ENdOU87op"
      },
      "execution_count": null,
      "outputs": []
    },
    {
      "cell_type": "code",
      "source": [
        "#task11\n",
        "def rem_duplicate(a_tup):\n",
        "  out_tup=[]\n",
        "  for c in a_tup:\n",
        "    if c not in out_tup:\n",
        "      out_tup.append(c)\n",
        "  return tuple(out_tup)\n",
        "#user=input().split(\",\")\n",
        "a_tup=(\"Hi\", 1, 2, 3, 3, \"Hi\",'a', 'a', [1,2])\n",
        "print(rem_duplicate(a_tup))"
      ],
      "metadata": {
        "id": "q0jyfW499AHm"
      },
      "execution_count": null,
      "outputs": []
    },
    {
      "cell_type": "code",
      "source": [
        "#task12\n",
        "def rem_repeaters(list_name):\n",
        "  new_list=[]\n",
        "  count=0\n",
        "  for elm in list_name:\n",
        "    if new_list.count(elm)<2:\n",
        "      new_list.append(elm)\n",
        "    else:\n",
        "      count+=1\n",
        "  print(f'Removed : {count}')\n",
        "  return new_list\n",
        "print(rem_repeaters([1, 2, 3, 3, 3, 3, 4, 5, 8, 8]))"
      ],
      "metadata": {
        "id": "L2WPSHHMQyR6"
      },
      "execution_count": null,
      "outputs": []
    },
    {
      "cell_type": "code",
      "source": [
        "#task13\n",
        "def calculate(op,num1,num2):\n",
        "  if op==\"+\":\n",
        "    return num1+num2\n",
        "  elif op==\"-\":\n",
        "    return num1-num2\n",
        "  elif op==\"/\":\n",
        "    return num1/num2\n",
        "  elif op==\"*\":\n",
        "    return num1*num2\n",
        "op=input(\"Operator : \")\n",
        "num1=float(input(\"First Operand : \"))\n",
        "num2=float(input(\"Second Operand :\"))\n",
        "print(calculate(op,num1,num2))"
      ],
      "metadata": {
        "id": "ywt8MiMn9EOF"
      },
      "execution_count": null,
      "outputs": []
    },
    {
      "cell_type": "code",
      "source": [
        "#task14\n",
        "def remover(user1,user2):\n",
        "  out1=\"\"\n",
        "  out2=\"\"\n",
        "  for n in range(0,len(user1)):\n",
        "    if n==0:\n",
        "      out1+=user1[n]\n",
        "    else:\n",
        "      if n%user2!=0:\n",
        "        out1+=user1[n]\n",
        "      else:\n",
        "        out2+=user1[n]\n",
        "  return out1+out2\n",
        "user1=input(\"Enter a sentence : \")\n",
        "user2=int(input(\"Enter position : \"))\n",
        "print(remover(user1,user2))"
      ],
      "metadata": {
        "id": "UdEreL8sTv_-"
      },
      "execution_count": null,
      "outputs": []
    },
    {
      "cell_type": "code",
      "source": [
        "#task15\n",
        "def cart(order_items,location):\n",
        "  product={'Rice':105,'Potato':20,'Chicken':250,'Beef':510,'Oil':85}\n",
        "  total_price=0\n",
        "  for elm in order_items:\n",
        "    if elm in product:\n",
        "      total_price+=product[elm]\n",
        "  if location==\"Dhanmondi\" or location==\"\":\n",
        "    total_price+=30\n",
        "  else:\n",
        "    total_price+=70\n",
        "  return total_price\n",
        "order_items=input(\"Enter items : \").split(\",\")\n",
        "location=input(\"Enter delivery location : \")\n",
        "print(f'Total amount to pay,{cart(order_items,location)}')"
      ],
      "metadata": {
        "id": "tgVCTJ499Kb3"
      },
      "execution_count": null,
      "outputs": []
    },
    {
      "cell_type": "code",
      "source": [
        "#ungrade1\n",
        "def splitting_money(amount):\n",
        "  notes=[500, 100, 50, 20, 10, 5, 2, 1]\n",
        "  out={}\n",
        "  for n in notes:\n",
        "    count=amount//n\n",
        "    if count>0:\n",
        "      out[n]=count\n",
        "      amount%=n\n",
        "  return out\n",
        "amount=int(input())\n",
        "for k,v in splitting_money(amount).items():\n",
        "  print(f'{k} Taka: {v} note(s)')"
      ],
      "metadata": {
        "id": "ZcyKjvEtwg-n"
      },
      "execution_count": null,
      "outputs": []
    },
    {
      "cell_type": "code",
      "source": [
        "#ungrade2\n",
        "def remove_odd(a_list):\n",
        "  new_list=[]\n",
        "  for elm in a_list:\n",
        "    if elm%2==0:\n",
        "      new_list.append(elm)\n",
        "  return new_list\n",
        "a_list=[11,2,3,4,5,2,0,5,3]\n",
        "print(remove_odd(a_list))"
      ],
      "metadata": {
        "id": "65LiWMS2wiCL"
      },
      "execution_count": null,
      "outputs": []
    },
    {
      "cell_type": "code",
      "source": [
        "#ungrade3\n",
        "def func_dvs(start,end,first,second):\n",
        "  sum=0\n",
        "  for i in range(start,end):\n",
        "    if (i%first==0 and i%second!=0) or (i%first!=0 and i%second==0):\n",
        "      sum+=i\n",
        "  return sum\n",
        "start=int(input())\n",
        "end=int(input())\n",
        "first=int(input())\n",
        "second=int(input())\n",
        "print(func_dvs(start,end,first,second))"
      ],
      "metadata": {
        "id": "5DIWSAE3wrsu"
      },
      "execution_count": null,
      "outputs": []
    },
    {
      "cell_type": "code",
      "source": [
        "#ungrade4\n",
        "def a_to_j(user):\n",
        "  must=\"abcdefghij\"\n",
        "  for c in must:\n",
        "    if c not in user:\n",
        "      return 6\n",
        "    else:\n",
        "      return 5\n",
        "user=input().lower()\n",
        "for i in range(a_to_j(user)):\n",
        "  print(\"PSG will win the Champions League this season\")"
      ],
      "metadata": {
        "id": "dhG9bn8Jqgb8"
      },
      "execution_count": null,
      "outputs": []
    },
    {
      "cell_type": "code",
      "source": [
        "#ungrade5\n",
        "def individul_bonus_calculation(player,salary,goals,bonus):\n",
        "  total=goals*(bonus/100*salary)\n",
        "  if goals>30:\n",
        "    total+=10000\n",
        "  elif 20<=goals<=30:\n",
        "    total+=5000\n",
        "  print(f'{player} earned a bonus of {int(total)} Taka for {goals} goals.')\n",
        "individul_bonus_calculation('Luis', 80000, 25, 10)"
      ],
      "metadata": {
        "id": "McmKiGlmqhXr"
      },
      "execution_count": null,
      "outputs": []
    },
    {
      "cell_type": "code",
      "source": [
        "#ungrade6\n",
        "def individul_bonus_calculation(player,salary,goals,bonus):\n",
        "  total=goals*(bonus/100*salary)\n",
        "  if goals>30:\n",
        "    total+=10000\n",
        "  elif 20<=goals<=30:\n",
        "    total+=5000\n",
        "  print(f'{player} earned a bonus of {int(total)} Taka for {goals} goals.')\n",
        "def cal_bonus(*args):\n",
        "  player=len(args)//4\n",
        "  for i in range(player):\n",
        "    index=i*4\n",
        "    player=args[index]\n",
        "    salary=args[index+1]\n",
        "    goals=args[index+2]\n",
        "    bonus=args[index+3]\n",
        "    individul_bonus_calculation(player,salary,goals,bonus)\n",
        "cal_bonus(\"Neymar\", 1200000, 35, 5, 'Jamal', 700000, 19, 8, 'Luis', 80000, 25, 10)"
      ],
      "metadata": {
        "id": "YqWgTEnpqlRD"
      },
      "execution_count": null,
      "outputs": []
    },
    {
      "cell_type": "markdown",
      "source": [
        "# Practices"
      ],
      "metadata": {
        "id": "vqBW0OyDOGod"
      }
    },
    {
      "cell_type": "code",
      "source": [
        "#checking mac address\n",
        "mac=str(input(\"Enter Mac Address:\"))\n",
        "var=\"\"\n",
        "mac_var=\"\"\n",
        "check=False\n",
        "if len(mac)==17:\n",
        "  check=True\n",
        "  for c in mac:\n",
        "    if c!=\":\" and c!=\"-\":\n",
        "      var+=c\n",
        "      mac_var+=c\n",
        "    else:\n",
        "      if len(var)==2:\n",
        "        check=True\n",
        "      else:\n",
        "        check=False\n",
        "        break\n",
        "      var=\"\"\n",
        "  for c in mac_var:\n",
        "    if \"0\"<=c<=\"9\" or \"A\"<=c<=\"F\" or \"a\"<=c<=\"f\":\n",
        "      check=True\n",
        "    else:\n",
        "      check=False\n",
        "      break\n",
        "else:\n",
        "  check=False\n",
        "if check==True:\n",
        "  print(\"VALID\")\n",
        "else:\n",
        "  print(\"INVALID\")"
      ],
      "metadata": {
        "id": "pZxNTH04R1JX"
      },
      "execution_count": null,
      "outputs": []
    },
    {
      "cell_type": "code",
      "source": [
        "#copy function\n",
        "myList = [0, 0, 0, 0, 0, 0, 0, 0, 0, 0]\n",
        "print(\"Original;\",myList)\n",
        "print(id(myList))\n",
        "new_myList=myList.copy()\n",
        "print(\"CopyF;\",new_myList)\n",
        "print(id(new_myList))\n",
        "n=myList\n",
        "print(\"Clone;\",n)\n",
        "print(id(n))"
      ],
      "metadata": {
        "id": "5IrYE1OBkcXl"
      },
      "execution_count": null,
      "outputs": []
    },
    {
      "cell_type": "code",
      "source": [
        "#practice1\n",
        "date=int(input(\"Enter Date:\"))\n",
        "month=int(input(\"Enter Month:\"))\n",
        "year1=int(input(\"Enter year:\"))\n",
        "if month==1:\n",
        "   month=\"January\"\n",
        "if month==2:\n",
        "   month=\"February\"\n",
        "if month==3:\n",
        "   month=\"March\"\n",
        "if month==4:\n",
        "   month=\"April\"\n",
        "if month==5:\n",
        "   month=\"May\"\n",
        "if month==6:\n",
        "   month=\"June\"\n",
        "if month==7:\n",
        "   month=\"July\"\n",
        "if month==8:\n",
        "   month=\"August\"\n",
        "if month==9:\n",
        "   month=\"September\"\n",
        "if month==10:\n",
        "   month=\"October\"\n",
        "if month==11:\n",
        "   month=\"November\"\n",
        "if month==12:\n",
        "   month=\"December\"\n",
        "year2=year1+2000\n",
        "print(date,end=\"\")\n",
        "print(\"-\",end=\"\")\n",
        "print(month,end=\"\")\n",
        "print(\"-\",end=\"\")\n",
        "print(year2)"
      ],
      "metadata": {
        "id": "kh4t6WeAcczl"
      },
      "execution_count": null,
      "outputs": []
    },
    {
      "cell_type": "code",
      "source": [
        "#practice2\n",
        "brand=input(\"Enter the brand of the car:\")\n",
        "wheel=input(\"Enter the wheel position of the car:\")\n",
        "power=int(input(\"Enter the Horse Power of the car:\"))\n",
        "tax=0\n",
        "if(brand==\"Ferrari\"):\n",
        "  tax+=30\n",
        "if(brand==\"Ford\"):\n",
        "  tax+=25\n",
        "if(wheel==\"Left\"):\n",
        "  tax+=10\n",
        "if(power>2000):\n",
        "  tax+=10\n",
        "print(f\"Extra tax: {tax}%\")"
      ],
      "metadata": {
        "id": "JtqSvy2ycwpT"
      },
      "execution_count": null,
      "outputs": []
    },
    {
      "cell_type": "code",
      "source": [
        "#practice3\n",
        "a=int(input(\"Quiz: \"))\n",
        "b=int(input(\"Mid: \"))\n",
        "c=int(input(\"Final: \"))\n",
        "z=int(a+b+c)\n",
        "print(\"Total marks:\",z)\n",
        "if z>=90:\n",
        "   print(\"Grade: A\")\n",
        "elif 80<=z<=89:\n",
        "   print(\"Grade: B\")\n",
        "elif 70<=z<= 79:\n",
        "   print(\"Grade: C\")\n",
        "elif 50<=z<=69:\n",
        "   print(\"Grade: D\")\n",
        "else:\n",
        "   print(\"Grade: F\")"
      ],
      "metadata": {
        "id": "XQ8VIfzFdAAh"
      },
      "execution_count": null,
      "outputs": []
    },
    {
      "cell_type": "code",
      "source": [
        "#practice4\n",
        "a=int(input())\n",
        "if a%2==0:\n",
        "   print(\"Even\")\n",
        "else:\n",
        "   print(\"Odd\")\n",
        "if a==0:\n",
        "   print(\"Zero\")\n",
        "elif a>0:\n",
        "   print(\"Positive\")\n",
        "else:\n",
        "   print(\"Negative\")"
      ],
      "metadata": {
        "id": "kjd5mufFdSMh"
      },
      "execution_count": null,
      "outputs": []
    },
    {
      "cell_type": "code",
      "source": [
        "#practice5\n",
        "w1=float(input(\"Your Weight:\"))\n",
        "h1=float(input(\"Your Height:\"))\n",
        "w2=float(w1*0.001)\n",
        "h2=float(h1*0.01)\n",
        "bmi=w2/(h2*h2)\n",
        "print(bmi)\n",
        "if(bmi<18.5):\n",
        "  print(\"Underweight\")\n",
        "elif(18.5<=bmi<=24.9):\n",
        "  print(\"Normal weight\")\n",
        "elif(25<=bmi<=29.9):\n",
        "  print(\"Overweight\")\n",
        "elif(bmi>=30):\n",
        "  print(\"Obese\")"
      ],
      "metadata": {
        "id": "-jtZDjU9daeY"
      },
      "execution_count": null,
      "outputs": []
    },
    {
      "cell_type": "code",
      "source": [
        "#practice6\n",
        "groom=input()\n",
        "bride=input()\n",
        "couple_name=\"\"\n",
        "a=(len(bride)-1)\n",
        "for i in range(len(groom)):\n",
        "  if a>i:\n",
        "    couple_name+=((groom[i]+bride[i])+(groom[a]+bride[a]))\n",
        "  else:\n",
        "    if a==i:\n",
        "      couple_name+=(groom[i]+bride[i])\n",
        "    break\n",
        "  a-=1\n",
        "print(couple_name)"
      ],
      "metadata": {
        "id": "Qw7ry_JhBKyX"
      },
      "execution_count": null,
      "outputs": []
    },
    {
      "cell_type": "code",
      "source": [
        "#practice7\n",
        "user1=int(input(\"Total Product(s) : \"))\n",
        "total1=total2=0\n",
        "for i in range(user1):\n",
        "  user2=int(input(\"Price(s) : \"))\n",
        "  if user2%2==0:\n",
        "    total1+=user2\n",
        "    total2+=user2*0.05\n",
        "  else:\n",
        "    total1+=user2\n",
        "print(f'Price befor discount : {total1}')\n",
        "print(f'Price after discount : {total1-total2}')"
      ],
      "metadata": {
        "id": "V3iIVrW5Bn_5"
      },
      "execution_count": null,
      "outputs": []
    },
    {
      "cell_type": "code",
      "source": [
        "#practice8\n",
        "def football_win_calculator():\n",
        "  total_points=0\n",
        "  wins=0\n",
        "  for n in range(match_num):\n",
        "    score=input(\"Enter score : \")\n",
        "    if int(score[0])>int(score[2]):\n",
        "      total_points+=3\n",
        "      wins+=1\n",
        "    elif int(score[0])<int(score[2]):\n",
        "      total_points+=0\n",
        "    else:\n",
        "      total_points+=1\n",
        "  print(f'Total points obtained : {total_points}')\n",
        "  print(f'Winning percentage : {(wins/match_num)*100}%')\n",
        "match_num=int(input(\"Enter no. of matches : \"))\n",
        "football_win_calculator()"
      ],
      "metadata": {
        "id": "DoX9FAtLBqO0"
      },
      "execution_count": null,
      "outputs": []
    },
    {
      "cell_type": "code",
      "source": [
        "#practice8/without calling function\n",
        "match_num=int(input(\"Enter no. of matches : \"))\n",
        "total_points=0\n",
        "wins=0\n",
        "for n in range(match_num):\n",
        "  score=input(\"Enter score : \")\n",
        "  if int(score[0])>int(score[2]):\n",
        "    total_points+=3\n",
        "    wins+=1\n",
        "  elif int(score[0])<int(score[2]):\n",
        "    total_points+=0\n",
        "  else:\n",
        "    total_points+=1\n",
        "print(f'Total points obtained : {total_points}')\n",
        "print(f'Winning percentage : {(wins/match_num)*100}%')"
      ],
      "metadata": {
        "id": "k5OU794pBvZ_"
      },
      "execution_count": null,
      "outputs": []
    },
    {
      "cell_type": "code",
      "source": [
        "#practice9\n",
        "cel1=int(input())\n",
        "cel2=int(input())\n",
        "for t in range(cel1,cel2+1):\n",
        "  print(f'{t} degree Celsius = {(t*1.8)+32} degree Fahreinheit')"
      ],
      "metadata": {
        "id": "bNjTlMilB1SH"
      },
      "execution_count": null,
      "outputs": []
    },
    {
      "cell_type": "code",
      "source": [
        "#practice10\n",
        "N=int(input(\"Enter total no of inputs : \"))\n",
        "product=1\n",
        "valid=\"\"\n",
        "invalid=\"\"\n",
        "for i in range(N):\n",
        "  num=int(input(\"Enter number : \"))\n",
        "  if num<=0:\n",
        "    invalid+=(str(num)+\", \")\n",
        "  else:\n",
        "    valid+=(str(num)+\", \")\n",
        "    product*=num\n",
        "print(f'Valid inputs : \"{valid}\"')\n",
        "print(f'Invalid inputs : \"{invalid}\"')\n",
        "print(f'Product : {product}')"
      ],
      "metadata": {
        "id": "Ax_VmjU3CoMH"
      },
      "execution_count": null,
      "outputs": []
    },
    {
      "cell_type": "code",
      "source": [
        "#practice11\n",
        "d_students={'1234567':{'name':'Rahat','dept':'CSE','credit':9},'1237565':{'name':'Ahat','dept':'CS','credit':15},'3267547':{'name':'Raha','dept':'EEE','credit':25}}\n",
        "d_cgpa={\"3267547\":4.0,\"1237565\":3.6,\"1234567\":3.1}\n",
        "new_dct1={}\n",
        "new_dct2={}\n",
        "final1={}\n",
        "final2={}\n",
        "for k1,v1 in d_students.items():\n",
        "  if k1 in d_cgpa:\n",
        "    for k2,v2 in d_cgpa.items():\n",
        "      new_dct1[k1]=d_cgpa[k1]\n",
        "      final1[k1]=None\n",
        "      for k3,v3 in new_dct1.items():\n",
        "        for k4,v4 in v1.items():\n",
        "          new_dct2[k4]=v4\n",
        "        new_dct2['cgpa']=v3\n",
        "        final1[k1]=new_dct2\n",
        "        for k5,v5 in final1.items():\n",
        "          final2[k5]=v5\n",
        "          new_dct1={}\n",
        "          new_dct2={}\n",
        "          final1={}\n",
        "print(final2)"
      ],
      "metadata": {
        "id": "EZ_PkXMfzPxU"
      },
      "execution_count": null,
      "outputs": []
    },
    {
      "cell_type": "code",
      "source": [
        "#practice12\n",
        "def user():\n",
        "  u=input()\n",
        "  print(u)\n",
        "user()"
      ],
      "metadata": {
        "id": "elktU0J_2_a-"
      },
      "execution_count": null,
      "outputs": []
    },
    {
      "cell_type": "code",
      "source": [
        "#practice13\n",
        "def small(u1,u2):\n",
        "  if u1<u2:\n",
        "    return u1\n",
        "  elif u2<u1:\n",
        "    return u2\n",
        "u1=int(input())\n",
        "u2=int(input())\n",
        "print(small(u1,u2))"
      ],
      "metadata": {
        "id": "2N4jbDM53CkI"
      },
      "execution_count": null,
      "outputs": []
    },
    {
      "cell_type": "code",
      "source": [
        "#practice14\n",
        "def checker(a_list,num):\n",
        "  if num in a_list:\n",
        "    return True\n",
        "  else:\n",
        "    return False\n",
        "a_list=[1,5,\"Hi\",6,\"No\",10]\n",
        "num=1\n",
        "print(checker(a_list,num))"
      ],
      "metadata": {
        "id": "T8KUCJ2L3TtE"
      },
      "execution_count": null,
      "outputs": []
    },
    {
      "cell_type": "code",
      "source": [
        "#practice15\n",
        "def addition(a_list):\n",
        "  sum=0\n",
        "  for num in a_list:\n",
        "    sum+=num\n",
        "  return sum\n",
        "a_list=[6,2,5,3,4]\n",
        "print(addition(a_list))"
      ],
      "metadata": {
        "id": "Qe9Kwudz3kA5"
      },
      "execution_count": null,
      "outputs": []
    },
    {
      "cell_type": "code",
      "source": [
        "#practice16\n",
        "def calculate(num1,num2):\n",
        "  return num1+num2,num1*num2\n",
        "sum,mul=calculate(3,6)\n",
        "print(sum)\n",
        "print(mul)"
      ],
      "metadata": {
        "id": "_SJvVv9s35-D"
      },
      "execution_count": null,
      "outputs": []
    },
    {
      "cell_type": "code",
      "source": [
        "#practice17\n",
        "def big(u1,u2):\n",
        "  if u1<u2:\n",
        "    return u2\n",
        "  elif u2<u1:\n",
        "    return u1\n",
        "u1=int(input())\n",
        "u2=int(input())\n",
        "print(big(u1,u2))"
      ],
      "metadata": {
        "id": "5BzRdefX4LLt"
      },
      "execution_count": null,
      "outputs": []
    },
    {
      "cell_type": "code",
      "source": [
        "#practice18\n",
        "def list_to_string(a_list):\n",
        "  out=\"\"\n",
        "  for elm in a_list:\n",
        "    out+=str(elm)\n",
        "  return out\n",
        "a_list=[-5, 0.3, \"3\"]\n",
        "print(list_to_string(a_list))"
      ],
      "metadata": {
        "id": "eYFwuLh04T-Q"
      },
      "execution_count": null,
      "outputs": []
    },
    {
      "cell_type": "code",
      "source": [
        "#practice19\n",
        "def makeTuple(dictionary):\n",
        "  a_tup=[]\n",
        "  for k,v in dictionary.items():\n",
        "    if ord(k[0])==ord(k[-1]):\n",
        "      a_tup.append(v)\n",
        "  return tuple(a_tup)\n",
        "dictionary={'bat': 311, 'madam': 512, \"hurrah\": 650, 'race car': 753, 'car':310}\n",
        "print(makeTuple(dictionary))"
      ],
      "metadata": {
        "id": "IGiy3Y4I4lO7"
      },
      "execution_count": null,
      "outputs": []
    },
    {
      "cell_type": "code",
      "source": [
        "#practice20\n",
        "def lower_vowel_extractor(user):\n",
        "  low_list=[]\n",
        "  vowel=\"aeiou\"\n",
        "  for c in user:\n",
        "    if \"a\"<=c<=\"z\" and c in vowel:\n",
        "      if c not in low_list:\n",
        "        low_list.append(c)\n",
        "  return low_list\n",
        "print(lower_vowel_extractor(\"CSE110 was not fun. I hope I don’t have to retake.\"))"
      ],
      "metadata": {
        "id": "cOJNrBoF5r7c"
      },
      "execution_count": null,
      "outputs": []
    },
    {
      "cell_type": "code",
      "source": [
        "#practice21\n",
        "def more_than_avg(user):\n",
        "  out_list=[]\n",
        "  sum=0\n",
        "  for elm in user:\n",
        "    sum+=len(elm)\n",
        "  avg=sum/len(user)\n",
        "  for c in user:\n",
        "    if len(c)>avg:\n",
        "      out_list.append(c)\n",
        "  return avg,out_list\n",
        "print(more_than_avg([\"CSE110's\",\"Final\",\"Examination\",\"is\",\"extremely\",\"easy\"]))"
      ],
      "metadata": {
        "id": "xackcrxi6gax"
      },
      "execution_count": null,
      "outputs": []
    },
    {
      "cell_type": "code",
      "source": [
        "#practice22\n",
        "def BigWordsFinder(user):\n",
        "  big_list=[]\n",
        "  ascii=0\n",
        "  for elm in user.split(\" \"):\n",
        "    for c in elm:\n",
        "      ascii+=ord(c)\n",
        "    if ascii>700:\n",
        "      big_list.append(elm)\n",
        "    else:\n",
        "      return \"No big word found\"\n",
        "    ascii=0\n",
        "  return big_list\n",
        "print(BigWordsFinder(\"Hello World nice to meet you\"))"
      ],
      "metadata": {
        "id": "U6ylW7xk6pVT"
      },
      "execution_count": null,
      "outputs": []
    },
    {
      "cell_type": "code",
      "source": [
        "#spring23-Ques1\n",
        "marks=[85, 92, 78, 88]\n",
        "key=\"Task\"\n",
        "count=1\n",
        "sum=0\n",
        "out_dct={}\n",
        "for n in marks:\n",
        "  key+=str(count)\n",
        "  out_dct[key]=n\n",
        "  count+=1\n",
        "  sum+=n\n",
        "  key=\"Task\"\n",
        "out_dct[\"average\"]=(sum/len(marks))\n",
        "print(out_dct)"
      ],
      "metadata": {
        "id": "lZE5wGV-LtNh"
      },
      "execution_count": null,
      "outputs": []
    },
    {
      "cell_type": "code",
      "source": [
        "#spring23-Ques2\n",
        "def name_checker(user):\n",
        "  cap=True\n",
        "  for words in user.split(\" \"):\n",
        "    if \"A\"<=words[0]<=\"Z\":\n",
        "      if \"a\"<=words[1:]<=\"z\":\n",
        "        cap=True\n",
        "      else:\n",
        "        cap=not cap\n",
        "        break\n",
        "    else:\n",
        "      cap=not cap\n",
        "      break\n",
        "  if cap==True:\n",
        "    return True\n",
        "  else:\n",
        "    return False\n",
        "user=\"Mr Alec Benjamin\"#input()\n",
        "print(name_checker(user))"
      ],
      "metadata": {
        "id": "n6fH5G1s6tzw"
      },
      "execution_count": null,
      "outputs": []
    },
    {
      "cell_type": "code",
      "source": [
        "#practice23\n",
        "def dictionary_by_length(user):\n",
        "  out_dct={}\n",
        "  for word in user:\n",
        "    if len(word) not in out_dct:\n",
        "      out_dct[len(word)]=[word]\n",
        "    else:\n",
        "      out_dct[len(word)].append(word)\n",
        "  return out_dct\n",
        "print(dictionary_by_length(['apple', 'cat', 'dog', 'banana', 'fish']))"
      ],
      "metadata": {
        "id": "34M-uTMH6w3b"
      },
      "execution_count": null,
      "outputs": []
    },
    {
      "cell_type": "code",
      "source": [
        "#practice24\n",
        "def product_of_list(user):\n",
        "  c=[]\n",
        "  for v in user.values():\n",
        "    c.append(ord(v[0])*ord(v[1]))\n",
        "  return tuple(c)\n",
        "print(product_of_list({'C':['g','m'], 'B':['b','z'], 'A':['a','c']}))"
      ],
      "metadata": {
        "id": "rn91-mFr6zpX"
      },
      "execution_count": null,
      "outputs": []
    },
    {
      "cell_type": "code",
      "source": [
        "#practice25\n",
        "import math\n",
        "def ascii_summation(user):\n",
        "  ascii_sum=0\n",
        "  out_dct={}\n",
        "  large=0\n",
        "  small=math.inf\n",
        "  large_word=\"\"\n",
        "  small_word=\"\"\n",
        "  for word in user:\n",
        "    ascii_sum=0\n",
        "    for letter in word:\n",
        "      ascii_sum+=ord(letter)\n",
        "    if ascii_sum>large:\n",
        "      large=ascii_sum\n",
        "      large_word=word\n",
        "    elif ascii_sum<small:\n",
        "      small=ascii_sum\n",
        "      small_word=word\n",
        "  out_dct[large_word]=large\n",
        "  out_dct[small_word]=small\n",
        "  return out_dct\n",
        "print(ascii_summation([\"Disorder\", \"Chaos\", \"Anarchy\", \"Crime\", \"Lawless\"]))"
      ],
      "metadata": {
        "id": "XICjE71B62Wx"
      },
      "execution_count": null,
      "outputs": []
    },
    {
      "cell_type": "code",
      "source": [
        "#practice26\n",
        "def vowel_counter(user):\n",
        "  vowel=[\"a\",\"e\",\"i\",\"o\",\"u\"]\n",
        "  count=0\n",
        "  out_dct={}\n",
        "  final_dct={}\n",
        "  for v_ch in vowel:\n",
        "    for i in range(0,len(user)):\n",
        "      if user[i]==v_ch:\n",
        "        if user[i] not in out_dct:\n",
        "          out_dct[v_ch]=[i]\n",
        "        else:\n",
        "          out_dct[v_ch].append(i)\n",
        "  for k,v in out_dct.items():\n",
        "    if len(v)>=2:\n",
        "      final_dct[k]=v\n",
        "  return final_dct\n",
        "print(vowel_counter(\"hello hi how are you\"))"
      ],
      "metadata": {
        "id": "TMk6LNw166pP"
      },
      "execution_count": null,
      "outputs": []
    },
    {
      "cell_type": "code",
      "source": [
        "given_dictionary={(2,3,6):\"Harry\",(7,):\"Ron\",(2,4):\"Hermione\",(4,6,10):\"Malfoys\"}\n",
        "out=\"\"\n",
        "new_dictionary={}\n",
        "sum=0\n",
        "for k,v in given_dictionary.items():\n",
        "  out+=v\n",
        "  for n in k:\n",
        "    sum+=n\n",
        "  new_dictionary[sum]=v\n",
        "  sum=0\n",
        "print(f'The values: {out}')\n",
        "print(f'new_dictionary = {new_dictionary}')"
      ],
      "metadata": {
        "id": "SF9Qik3z76Ta"
      },
      "execution_count": null,
      "outputs": []
    },
    {
      "cell_type": "code",
      "source": [
        "def NATO_alphabets(codeword,special,user):\n",
        "  vowel=\"aeiou\"\n",
        "  final_output=\"\"\n",
        "  for i in range(0,len(user)):\n",
        "    if \"0\"<=user[i]<=\"9\":\n",
        "      if int(user[i]) in codeword:\n",
        "        final_output+=(codeword[int(user[i])]+\" \")\n",
        "    elif user[i] in vowel:\n",
        "      final_output+=chr(ord(user[i])+1)\n",
        "    elif \"a\"<=user[i]<=\"z\":\n",
        "      final_output+=chr(ord(user[i])-1)\n",
        "    elif user[i]==\"_\":\n",
        "      final_output+=special[((ord(\"_\")*i)%len(special))]\n",
        "    elif user[i]==\" \":\n",
        "      final_output+=\" \"\n",
        "  return final_output\n",
        "codeword={0:'nada',1:'una',2:'bisso',3:'terra',4:'karte',5:'panta',6:'soxi',7:'sette',8:'okto',9:'nove'}\n",
        "special=['#','@','*','$']\n",
        "user=\"3r_d world cu_p won i_n 1970\"\n",
        "print(NATO_alphabets(codeword,special,user))"
      ],
      "metadata": {
        "id": "up08xDlk7-Yk"
      },
      "execution_count": null,
      "outputs": []
    },
    {
      "cell_type": "code",
      "source": [
        "#T5A\n",
        "def generate_course(user):\n",
        "  new=\"\"\n",
        "  if int(user[0][3:])%2==0:\n",
        "    user[0]=\"Invalid Course\"\n",
        "    user[1]=\"Invalid title\"\n",
        "  else:\n",
        "    user[0]=user[0][:3]+str(int(user[0][3:])+1)\n",
        "    for i in range(len(user[1])):\n",
        "      if i%2==0:\n",
        "        new+=user[1][i]\n",
        "      else:\n",
        "        new+=chr(ord(user[1][i])+1)\n",
        "    user[1]=new\n",
        "  return user[0],user[1]\n",
        "user=input().split(\" \")\n",
        "course,code=generate_course(user)\n",
        "print(\"New course:\")\n",
        "print(f'title : {code}')\n",
        "print(f'code : {course}')"
      ],
      "metadata": {
        "id": "3PPh4Vc_DUTg"
      },
      "execution_count": null,
      "outputs": []
    },
    {
      "cell_type": "code",
      "source": [
        "#T5B\n",
        "def make_chart(user):\n",
        "  new=\"\"\n",
        "  if int(user[0][:3])%2!=0:\n",
        "    user[0]=\"Reconsider amount\"\n",
        "    user[1]=\"Wrong nutrient\"\n",
        "  else:\n",
        "    user[0]=str(int(user[0][:3])+10)+user[0][3:]\n",
        "    for i in range(len(user[1])):\n",
        "      if i%2==0:\n",
        "        new+=chr(ord(user[1][i])+1)\n",
        "      else:\n",
        "        new+=user[1][i]\n",
        "    user[1]=new\n",
        "  return user[0],user[1]\n",
        "user=input().split(\" \")\n",
        "intake,nutriet=make_chart(user)\n",
        "print(\"New chart:\")\n",
        "print(f'Nutrient name : {nutriet}')\n",
        "print(f'Intake amount : {intake}')"
      ],
      "metadata": {
        "id": "TloU8T-eDVig"
      },
      "execution_count": null,
      "outputs": []
    },
    {
      "cell_type": "code",
      "source": [
        "#T8A\n",
        "def grades(user):\n",
        "  out_dct={}\n",
        "  pass_grade=[\"A+\",\"A\",\"A-\"]\n",
        "  for info in user:\n",
        "    item=info.split(\"_\")\n",
        "    if item[0] in pass_grade:\n",
        "      if item[0] not in out_dct:\n",
        "        out_dct[item[0]]=[item[1]]\n",
        "      else:\n",
        "        out_dct[item[0]].append(item[1])\n",
        "  return out_dct\n",
        "print(grades(['B+_Alif','A_Sadman','A_Adnan','C_Syed','A-_Elen','F_Rafid']))"
      ],
      "metadata": {
        "id": "bf5QOPluL7q8"
      },
      "execution_count": null,
      "outputs": []
    },
    {
      "cell_type": "code",
      "source": [
        "#T8B\n",
        "def grades(user):\n",
        "  out_dct={}\n",
        "  pass_grade=[\"B-\",\"C\",\"D\",\"F\"]\n",
        "  for info in user:\n",
        "    item=info.split(\"_\")\n",
        "    if item[1] in pass_grade:\n",
        "      if item[1] not in out_dct:\n",
        "        out_dct[item[1]]=[item[0]]\n",
        "      else:\n",
        "        out_dct[item[1]].append(item[0])\n",
        "  return out_dct\n",
        "print(grades(['Alif_B+','Sadman_B-','Adnan_F','Syed_C','Elen_A+','Rafid_B']))"
      ],
      "metadata": {
        "id": "u2MGLI1bL3rA"
      },
      "execution_count": null,
      "outputs": []
    },
    {
      "cell_type": "code",
      "source": [
        "#T11A\n",
        "def update_student_grades(total_marks,midterm,makeup):\n",
        "  for n in total_marks:\n",
        "    if n in midterm and midterm[n]!=0:\n",
        "      total_marks[n]=total_marks[n]+midterm[n]\n",
        "    elif n in midterm and midterm[n]==0:\n",
        "      if n in makeup:\n",
        "        total_marks[n]=total_marks[n]+makeup[n]\n",
        "      if n not in makeup:\n",
        "        print(f'{n} needs to take a makeup mid and extra classes with a score of {total_marks[n]}!')\n",
        "      else:\n",
        "        print(f'{n} needs to take extra classes with a score of {total_marks[n]}!')\n",
        "    if total_marks[n]>60:\n",
        "      print(f'{n} has passed the benchmark with a score of {total_marks[n]}!')\n",
        "  return total_marks\n",
        "total_marks={'Alice':45,'Bob':32,'Charlie':47,'Eenie':28}\n",
        "midterm={'Alice':20,'Bob':0,'Charlie':15,'Eenie':0}\n",
        "makeup={'Bob':16}\n",
        "print(update_student_grades(total_marks,midterm,makeup))"
      ],
      "metadata": {
        "id": "hRRFIg8AeCve"
      },
      "execution_count": null,
      "outputs": []
    },
    {
      "cell_type": "code",
      "source": [
        "#T11B\n",
        "def update_inventory(inventory,shipment,warehouse):\n",
        "  for fr in shipment:\n",
        "    if fr in inventory:\n",
        "      inventory[fr]=inventory[fr]+shipment[fr]\n",
        "    else:\n",
        "      inventory[fr]=shipment[fr]\n",
        "    if inventory[fr]>30:\n",
        "      warehouse[fr]=inventory[fr]-30\n",
        "      inventory[fr]=inventory[fr]-warehouse[fr]\n",
        "  print(\"Updated Inventory :\")\n",
        "  for fn,qn in inventory.items():\n",
        "    print(f'{fn} : {qn}')\n",
        "  print(\"Updated Warehouse :\")\n",
        "  for fw,qw in warehouse.items():\n",
        "    print(f'{fw} : {qw}')\n",
        "inventory={'apple':10,'banana':22,'orange':8,'mango':26}\n",
        "shipment={'apple':15,'grapes':20,'pear':12,'mango':10,'banana':13}\n",
        "warehouse={}\n",
        "update_inventory(inventory,shipment,warehouse)"
      ],
      "metadata": {
        "id": "wR4f018IeK5o"
      },
      "execution_count": null,
      "outputs": []
    },
    {
      "cell_type": "code",
      "source": [
        "user=\"Good,things,take,time\".split(\",\")\n",
        "out_dct={}\n",
        "new_list=[]\n",
        "new_str=\"\"\n",
        "for words in user:\n",
        "  for i in range(len(words)):\n",
        "    if i==(len(words)-1):\n",
        "      new_str+=words[i]\n",
        "    else:\n",
        "      new_str+=words[i]+\"-\"\n",
        "  if words not in out_dct:\n",
        "    out_dct[words]=new_str\n",
        "  new_str=\"\"\n",
        "print(out_dct)"
      ],
      "metadata": {
        "id": "FBJBWqhNWVa5"
      },
      "execution_count": null,
      "outputs": []
    },
    {
      "cell_type": "code",
      "source": [
        "#practice27\n",
        "student_marks={22201554:[\"Arif\",7,16,35],22299335:[\"Kamal\",35,45]}\n",
        "elite={}\n",
        "pass_marks=0\n",
        "for roll,info in student_marks.items():\n",
        "  for marks in info[1:]:\n",
        "    pass_marks+=marks\n",
        "  if pass_marks>=80:\n",
        "    elite[roll]=info[0]\n",
        "  pass_marks=0\n",
        "print(elite)"
      ],
      "metadata": {
        "id": "7gdJcbtdoIU0"
      },
      "execution_count": null,
      "outputs": []
    },
    {
      "cell_type": "code",
      "source": [
        "#practice28\n",
        "d1={\"CSE\":[\"Alex\",\"Murphy\"],\"BBA\":[\"Joseph\",\"Sarah\"]}\n",
        "d2={\"CSE\":[\"Murphy\",\"Reynolds\"],\"MNS\":[\"Ray\",\"Darby\"]}\n",
        "out_dct={}\n",
        "for k1,v1 in d1.items():\n",
        "  out_dct[k1]=v1\n",
        "for k2,v2 in d2.items():\n",
        "  if k2 not in out_dct:\n",
        "    out_dct[k2]=v2\n",
        "  else:\n",
        "    for n in v2:\n",
        "      if n not in out_dct[k2]:\n",
        "        out_dct[k2].append(n)\n",
        "print(out_dct)"
      ],
      "metadata": {
        "id": "j2-dMH3eoW7x"
      },
      "execution_count": null,
      "outputs": []
    },
    {
      "cell_type": "code",
      "source": [
        "#practice29\n",
        "import math\n",
        "position={'A':(2,5),'B':(1,7),'C':(9,5),'D':(2,6)}\n",
        "x1=3 #int(input())\n",
        "y1=6 #int(input())\n",
        "least=math.inf\n",
        "for k,v in position.items():\n",
        "  x2,y2=v[0],v[1]\n",
        "  result=(math.sqrt((x2-x1)**2+(y2-y1)**2))\n",
        "  if result<least:\n",
        "    least=result\n",
        "    least_key=k\n",
        "print(least_key)"
      ],
      "metadata": {
        "id": "omCoMOzEoZmd"
      },
      "execution_count": null,
      "outputs": []
    },
    {
      "cell_type": "code",
      "source": [
        "#practice30\n",
        "user= \"82 * 92 = 7544\".split(\"=\")\n",
        "sign=[\"+\",\"-\",\"*\"]\n",
        "calc_dct={}\n",
        "test=user[0]\n",
        "result=int(user[1])\n",
        "for c in sign:\n",
        "  if c in test:\n",
        "    test=test.split(c)\n",
        "    op=c\n",
        "  first_op=int(test[0])\n",
        "  second_op=int(test[1])\n",
        "calc_dct['Operand 1']=first_op\n",
        "calc_dct['Operand 2']=second_op\n",
        "calc_dct['Operator']=op\n",
        "if op==\"+\":\n",
        "  final_result=(first_op+second_op)\n",
        "elif op==\"-\":\n",
        "  final_result=(first_op-second_op)\n",
        "elif op==\"*\":\n",
        "  final_result=(first_op*second_op)\n",
        "if final_result==result:\n",
        "  calc_dct['Is Correct?']=True\n",
        "else:\n",
        "  calc_dct['Is Correct?']=False\n",
        "  calc_dct['Correct Result']=final_result\n",
        "print(calc_dct)"
      ],
      "metadata": {
        "id": "8wqNjyW-ymIC"
      },
      "execution_count": null,
      "outputs": []
    },
    {
      "cell_type": "code",
      "source": [
        "#practice31\n",
        "marks=[80, 55, 92, 80, 79, 88]\n",
        "key=\"Task\"\n",
        "count=1\n",
        "sum=0\n",
        "out_dct={}\n",
        "for n in marks:\n",
        "  key+=str(count)\n",
        "  out_dct[key]=n\n",
        "  count+=1\n",
        "  sum+=n\n",
        "  key=\"Task\"\n",
        "out_dct[\"average\"]=(sum/len(marks))\n",
        "print(out_dct)"
      ],
      "metadata": {
        "id": "iw9PVrCU0DJk"
      },
      "execution_count": null,
      "outputs": []
    },
    {
      "cell_type": "code",
      "source": [
        "#practice32\n",
        "out_dct={}\n",
        "for count in range(3):\n",
        "  key=input(\"Key : \")\n",
        "  value=int(input(\"Value : \"))\n",
        "  if key not in out_dct:\n",
        "    out_dct[key]=value\n",
        "print(out_dct)"
      ],
      "metadata": {
        "id": "PRNpBenXIhG8"
      },
      "execution_count": null,
      "outputs": []
    },
    {
      "cell_type": "code",
      "source": [
        "#practice33\n",
        "Given_Dictionary={\"12\": -5, \"20\": 12, \"8\": 7}\n",
        "values=0\n",
        "keys=\"\"\n",
        "for k,v in Given_Dictionary.items():\n",
        "  keys+=k\n",
        "  values+=v\n",
        "print(keys)\n",
        "print(values)"
      ],
      "metadata": {
        "id": "ubW9FHMwIyAs"
      },
      "execution_count": null,
      "outputs": []
    },
    {
      "cell_type": "code",
      "source": [
        "#practice34\n",
        "given={\"Marjorie\":\"01777540921\",\"Jonah\":\"01743214359\",\"Tom\":\"01790654876\"}\n",
        "sim_num={\"Robi\":[],\"GP\":[]}\n",
        "for no in given.values():\n",
        "  if no[:3]==\"018\":\n",
        "    sim_num[\"Robi\"].append(no)\n",
        "  elif no[:3]==\"017\":\n",
        "    sim_num[\"GP\"].append(no)\n",
        "print(sim_num)"
      ],
      "metadata": {
        "id": "u2XXEqkRKVF4"
      },
      "execution_count": null,
      "outputs": []
    },
    {
      "cell_type": "code",
      "source": [
        "#practice35\n",
        "user={2:5, 3:11, 15:5}\n",
        "out_dct={}\n",
        "sum=0\n",
        "for k,v in user.items():\n",
        "  if v%k==0:\n",
        "    out_dct[k]=v\n",
        "    sum+=v\n",
        "print(out_dct)\n",
        "print(sum)"
      ],
      "metadata": {
        "id": "BPQrzi9YLTA1"
      },
      "execution_count": null,
      "outputs": []
    },
    {
      "cell_type": "code",
      "source": [
        "#practice36\n",
        "balance={'Bank1': [222, 30, 150, 29], 'Bank2': [-809, -120]}\n",
        "bank_info={\"Credit\":0,\"Debit\":0}\n",
        "for info in balance.values():\n",
        "  for mny in info:\n",
        "    if mny<0:\n",
        "      bank_info[\"Credit\"]+=mny\n",
        "    else:\n",
        "      bank_info[\"Debit\"]+=mny\n",
        "print(bank_info)"
      ],
      "metadata": {
        "id": "mAbAr1YUNkx1"
      },
      "execution_count": null,
      "outputs": []
    },
    {
      "cell_type": "code",
      "source": [
        "#practice37\n",
        "given_dict={'Monica':30,'Phoebe':31,'Rachel':28}\n",
        "vowel=\"AaEeIiOoUu\"\n",
        "for n,v in given_dict.items():\n",
        "  if v%2==0:\n",
        "    for c in n:\n",
        "      if c in vowel:\n",
        "        given_dict[n]+=ord(c)\n",
        "  else:\n",
        "    for c in n:\n",
        "      if c not in vowel:\n",
        "       given_dict[n]+=ord(c)\n",
        "print(given_dict)"
      ],
      "metadata": {
        "id": "dP9QEYRzPbvb"
      },
      "execution_count": null,
      "outputs": []
    },
    {
      "cell_type": "code",
      "source": [
        "#practice38\n",
        "d1={\"12\": -5, \"20\": 12, \"8\": 7}\n",
        "d2={\"12\": -5, \"8\": 7}\n",
        "out_dct={}\n",
        "for k1,v1 in d2.items():\n",
        "  if k1 not in d1:\n",
        "    out_dct[k1]=v1\n",
        "print(out_dct)"
      ],
      "metadata": {
        "id": "9cSVP2f_QRO7"
      },
      "execution_count": null,
      "outputs": []
    },
    {
      "cell_type": "code",
      "source": [
        "#practice39\n",
        "d1={\"A\": [1, 2], \"B\": [3], \"C\": [4,5,6]}\n",
        "for v in d1.values():\n",
        "  for i in v:\n",
        "    print(i)"
      ],
      "metadata": {
        "id": "x2ckuYujQWZL"
      },
      "execution_count": null,
      "outputs": []
    },
    {
      "cell_type": "code",
      "source": [],
      "metadata": {
        "id": "xVCXs4rLQffZ"
      },
      "execution_count": null,
      "outputs": []
    }
  ]
}