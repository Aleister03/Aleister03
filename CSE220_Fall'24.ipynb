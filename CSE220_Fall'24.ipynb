{
  "nbformat": 4,
  "nbformat_minor": 0,
  "metadata": {
    "colab": {
      "provenance": [],
      "authorship_tag": "ABX9TyOdE/z+NTNPBDUs+6djMrzO",
      "include_colab_link": true
    },
    "kernelspec": {
      "name": "python3",
      "display_name": "Python 3"
    },
    "language_info": {
      "name": "python"
    }
  },
  "cells": [
    {
      "cell_type": "markdown",
      "metadata": {
        "id": "view-in-github",
        "colab_type": "text"
      },
      "source": [
        "<a href=\"https://colab.research.google.com/github/Aleister03/Aleister03/blob/main/CSE220_Fall'24.ipynb\" target=\"_parent\"><img src=\"https://colab.research.google.com/assets/colab-badge.svg\" alt=\"Open In Colab\"/></a>"
      ]
    },
    {
      "cell_type": "code",
      "source": [
        "import numpy as np"
      ],
      "metadata": {
        "id": "UVgVVCmhKuuj"
      },
      "execution_count": null,
      "outputs": []
    },
    {
      "cell_type": "markdown",
      "source": [
        "# Array_Learning"
      ],
      "metadata": {
        "id": "y1YSxb5tKzI5"
      }
    },
    {
      "cell_type": "code",
      "source": [
        "N = int(input())\n",
        "arr = np.array([0]*N)\n",
        "for i in range(N):\n",
        "  user_input = int(input())\n",
        "  arr[i] = user_input\n",
        "print(f\"Original Array: {arr}\")\n",
        "\n",
        "new_inpt = int(input())\n",
        "new_arr = np.zeros(N+1, dtype = int)\n",
        "for i in range(len(arr)):\n",
        "  new_arr[i] = arr[i]\n",
        "new_arr[N] = new_inpt\n",
        "print(f\"Resized Array: {new_arr}\")"
      ],
      "metadata": {
        "colab": {
          "base_uri": "https://localhost:8080/"
        },
        "id": "1GbgzrEkLA34",
        "outputId": "40d9a49a-28ab-4209-9258-ab40e9c53f30"
      },
      "execution_count": null,
      "outputs": [
        {
          "output_type": "stream",
          "name": "stdout",
          "text": [
            "3\n",
            "4\n",
            "1\n",
            "0\n",
            "Original Array: [4 1 0]\n",
            "3\n",
            "Resized Array: [4 1 0 3]\n"
          ]
        }
      ]
    },
    {
      "cell_type": "code",
      "source": [
        "def converting_into_binary(arr):\n",
        "  print(f\"Original Array: {arr}\")\n",
        "  new_arr = np.zeros(len(arr), dtype = int)\n",
        "  for i in range(len(arr)):\n",
        "    if arr[i]>0:\n",
        "      new_arr[i] = 1\n",
        "    else:\n",
        "      new_arr[i] = 0\n",
        "  print(f\"After Modifying: {new_arr}\")\n",
        "\n",
        "arr = np.array([-3, 3, 0, 1, -1], dtype = int)\n",
        "converting_into_binary(arr)"
      ],
      "metadata": {
        "colab": {
          "base_uri": "https://localhost:8080/"
        },
        "id": "Ed2jMGhsLXJu",
        "outputId": "a2e889e0-8f7c-4299-c681-2d4cfc42677c"
      },
      "execution_count": null,
      "outputs": [
        {
          "output_type": "stream",
          "name": "stdout",
          "text": [
            "Original Array: [-3  3  0  1 -1]\n",
            "After Modifying: [0 1 0 1 0]\n"
          ]
        }
      ]
    },
    {
      "cell_type": "code",
      "source": [
        "def reverseArray(arr):\n",
        "  for i in range(len(arr)):\n",
        "    start=0\n",
        "    end=len(arr[i])-1\n",
        "    while start<end:\n",
        "      arr[i][start], arr[i][end] = arr[i][end], arr[i][start]\n",
        "      start+=1\n",
        "      end-=1\n",
        "  return(arr)\n",
        "\n",
        "arr = np.array([ [ 4, 3, 8, 6], [ 2, 5, 1, 3], [ 7, -1, 9, 4], [5, 4, -2, 0], [ 5, 7, 1, 3] ])\n",
        "reversed_arr = reverseArray(arr)\n",
        "print(reversed_arr)"
      ],
      "metadata": {
        "colab": {
          "base_uri": "https://localhost:8080/"
        },
        "id": "Vie2YvtKNGQl",
        "outputId": "0840ed94-9497-4326-98ee-66122a1bc0fe"
      },
      "execution_count": null,
      "outputs": [
        {
          "output_type": "stream",
          "name": "stdout",
          "text": [
            "[[ 6  8  3  4]\n",
            " [ 3  1  5  2]\n",
            " [ 4  9 -1  7]\n",
            " [ 0 -2  4  5]\n",
            " [ 3  1  7  5]]\n"
          ]
        }
      ]
    },
    {
      "cell_type": "code",
      "source": [
        "arr = np.array([ [ 4, 3, 8], [ 2, 5, 1], [ 7, -1, 9], [5, 4, -2] ])\n",
        "for i in range(len(arr)):\n",
        "  sum=0\n",
        "  for j in range(len(arr[i])):\n",
        "    sum+=arr[i][j]\n",
        "  print(sum)\n",
        "print(\"-----------------------------------------\")\n",
        "for i in range(len(arr)):\n",
        "  if i%2==0:\n",
        "    print(arr[i])\n",
        "  else:\n",
        "    temp_arr=np.zeros(len(arr[i]), type(int))\n",
        "    temp=0\n",
        "    for j in range(len(arr[i])-1, -1, -1):\n",
        "      temp_arr[temp]=arr[i][j]\n",
        "      temp+=1\n",
        "    arr[i]=temp_arr\n",
        "    print(arr[i])"
      ],
      "metadata": {
        "colab": {
          "base_uri": "https://localhost:8080/"
        },
        "id": "P-4dw086W4fw",
        "outputId": "0908bb06-8745-47f6-bb1f-79df478fa420"
      },
      "execution_count": null,
      "outputs": [
        {
          "output_type": "stream",
          "name": "stdout",
          "text": [
            "15\n",
            "8\n",
            "15\n",
            "7\n",
            "-----------------------------------------\n",
            "[4 3 8]\n",
            "[1 5 2]\n",
            "[ 7 -1  9]\n",
            "[-2  4  5]\n"
          ]
        }
      ]
    },
    {
      "cell_type": "code",
      "source": [
        "def sorted(arr):\n",
        "  print(f\"Original Array: {arr}\")\n",
        "  for i in range(len(arr)):\n",
        "    min_idx=i\n",
        "    for j in range(i+1, len(arr)):\n",
        "      if arr[min_idx]>arr[j]:\n",
        "        min_idx = j\n",
        "    arr[i], arr[min_idx] = arr[min_idx], arr[i]\n",
        "  print(f\"Sorted Array: {arr}\")\n",
        "arr = np.array([3,1,4,6,2,5])\n",
        "sorted(arr)"
      ],
      "metadata": {
        "colab": {
          "base_uri": "https://localhost:8080/"
        },
        "id": "N6zRAEb4Uy45",
        "outputId": "f94c4761-bd17-4e9f-9157-82c732e9311b"
      },
      "execution_count": null,
      "outputs": [
        {
          "output_type": "stream",
          "name": "stdout",
          "text": [
            "Original Array: [3 1 4 6 2 5]\n",
            "Sorted Array: [1 2 3 4 5 6]\n"
          ]
        }
      ]
    },
    {
      "cell_type": "code",
      "source": [
        "def flatten(arr):\n",
        "  new_arr = np.zeros((len(arr)*len(arr[0])), dtype = int)\n",
        "  temp=0\n",
        "  for i in range(len(arr)):\n",
        "    for j in range(len(arr[i])):\n",
        "      new_arr[temp] = arr[i][j]\n",
        "      temp+=1\n",
        "  return new_arr\n",
        "\n",
        "arr = np.array( [ [1, 4, 8], [5, 6, 2], [8, 9, 3] ] )\n",
        "flatten_arr = flatten(arr)\n",
        "print(flatten_arr)"
      ],
      "metadata": {
        "colab": {
          "base_uri": "https://localhost:8080/"
        },
        "id": "tSYWzAZaNegN",
        "outputId": "bbe33e2d-6952-4e9e-a8a6-c336717d122d"
      },
      "execution_count": null,
      "outputs": [
        {
          "output_type": "stream",
          "name": "stdout",
          "text": [
            "[1 4 8 5 6 2 8 9 3]\n"
          ]
        }
      ]
    },
    {
      "cell_type": "code",
      "source": [
        "def dot_proudct(vec1, vec2):\n",
        "  dot_product=0\n",
        "  for i in range(len(vec1)):\n",
        "    dot_product += vec1[i]*vec2[i]\n",
        "  print(f\"Dot Product: {dot_product}\")\n",
        "def swapping_elements(vec1, vec2):\n",
        "  for i in range(len(vec1)):\n",
        "    if i%2==0:\n",
        "      vec1[i], vec2[i] = vec2[i], vec1[i]\n",
        "    else:\n",
        "      vec1[i], vec2[i] = vec1[i], vec2[i]\n",
        "  print(f\"Swapped Vector 1: {vec1}\")\n",
        "  print(f\"Swapped Vector 2: {vec2}\")\n",
        "vec1 = np.array([1,2,3])\n",
        "vec2 = np.array([4,5,6])\n",
        "dot_proudct(vec1, vec2)\n",
        "swapping_elements(vec1, vec2)"
      ],
      "metadata": {
        "colab": {
          "base_uri": "https://localhost:8080/"
        },
        "id": "VDqLjeoQViaj",
        "outputId": "ff505b54-6af1-4883-930b-1bf8ab76e5f7"
      },
      "execution_count": null,
      "outputs": [
        {
          "output_type": "stream",
          "name": "stdout",
          "text": [
            "Dot Product: 32\n",
            "Swapped Vector 1: [4 2 6]\n",
            "Swapped Vector 2: [1 5 3]\n"
          ]
        }
      ]
    },
    {
      "cell_type": "code",
      "source": [
        "def sorting_positive_negative(arr):\n",
        "  new_arr = np.array(([0]*len(arr)), dtype=int)\n",
        "  temp=0\n",
        "  for i in range(len(arr)):\n",
        "    if arr[i]>0:\n",
        "      new_arr[temp]=arr[i]\n",
        "      temp+=1\n",
        "  for i in range(len(arr)):\n",
        "    if arr[i]<0:\n",
        "      new_arr[temp]=arr[i]\n",
        "      temp+=1\n",
        "  print(new_arr)\n",
        "arr1 = np.array([1, -1, 3, 2, -7, -5, 11, 6], dtype=int)\n",
        "sorting_positive_negative(arr1)\n",
        "arr2 = np.array([-5, 7, -3, -4, 9, 10, -1, 11], dtype=int)\n",
        "sorting_positive_negative(arr2)"
      ],
      "metadata": {
        "colab": {
          "base_uri": "https://localhost:8080/"
        },
        "id": "vqV8eLSeOBax",
        "outputId": "9cd9fa0c-95ed-43d7-c6b2-eed1c3b10e68"
      },
      "execution_count": null,
      "outputs": [
        {
          "output_type": "stream",
          "name": "stdout",
          "text": [
            "[ 1  3  2 11  6 -1 -7 -5]\n",
            "[ 7  9 10 11 -5 -3 -4 -1]\n"
          ]
        }
      ]
    },
    {
      "cell_type": "code",
      "source": [
        "def is_identity_matrix(matrix):\n",
        "  n = len(matrix)\n",
        "  for i in range(n):\n",
        "    for j in range(n):\n",
        "      if i == j:\n",
        "        if matrix[i][j] != 1:\n",
        "          print(\"Not an Identity matrix\")\n",
        "          return\n",
        "      else:\n",
        "        if matrix[i][j] != 0:\n",
        "          print(\"Not an Identity matrix\")\n",
        "          return\n",
        "  print(\"Identity matrix\")\n",
        "\n",
        "A = np.array([ [1, 0, 0, 0, 0],\n",
        "               [0, 1, 0, 0, 0],\n",
        "               [0, 0, 1, 0, 0],\n",
        "               [0, 0, 0, 1, 0],\n",
        "               [0, 0, 0, 0, 1]])\n",
        "is_identity_matrix(A)\n",
        "B = np.array([ [1, 0, 0],\n",
        "               [0, 1, 0],\n",
        "               [0, 0, 2] ])\n",
        "is_identity_matrix(B)"
      ],
      "metadata": {
        "colab": {
          "base_uri": "https://localhost:8080/"
        },
        "id": "UyBPRfYSOMaT",
        "outputId": "1d76bbe5-8191-4180-e4f5-37d1f21a3845"
      },
      "execution_count": null,
      "outputs": [
        {
          "output_type": "stream",
          "name": "stdout",
          "text": [
            "Identity matrix\n",
            "Not an Identity matrix\n"
          ]
        }
      ]
    },
    {
      "cell_type": "code",
      "source": [
        "def difference(arr):\n",
        "  n=len(arr)\n",
        "  sum_main=sum_sec=0\n",
        "  for i in range(n):\n",
        "    sum_main+=arr[i][i]\n",
        "  start=0\n",
        "  for j in range(n-1, -1, -1):\n",
        "    sum_sec+=arr[start][j]\n",
        "    start+=1\n",
        "  return abs(sum_main-sum_sec)\n",
        "\n",
        "A = np.array([ [1, 5, 12, 1],\n",
        "               [2, -4, 6, 7],\n",
        "               [3,  8,  5,  9],\n",
        "               [3, 5, 23, -6] ])\n",
        "print(\"Difference:\", difference(A))"
      ],
      "metadata": {
        "colab": {
          "base_uri": "https://localhost:8080/"
        },
        "id": "gzZ3gp9YOQLo",
        "outputId": "af011f05-843c-4a2e-e2c1-aca90de90ebc"
      },
      "execution_count": null,
      "outputs": [
        {
          "output_type": "stream",
          "name": "stdout",
          "text": [
            "Difference: 22\n"
          ]
        }
      ]
    },
    {
      "cell_type": "code",
      "source": [
        "def transpose(M1):\n",
        "  M2 = np.zeros((len(M1[0]), len(M1)), dtype = int)\n",
        "  for i in range(len(M1)):\n",
        "    for j in range(len(M1[i])):\n",
        "      M2[j][i] = M1[i][j]\n",
        "  return M2\n",
        "\n",
        "def gram_matrix(M1,M2):\n",
        "  if len(M1[0])==len(M2):\n",
        "    M3 = np.zeros((len(M1), len(M2[0])), dtype = int)\n",
        "    for i in range(len(M2)):\n",
        "      for j in range(len(M1)):\n",
        "        for k in range(len(M3)):\n",
        "          M3[k][j] += M1[j][i] * M2[i][k]\n",
        "  return M3\n",
        "\n",
        "A = np.array([[1, 2, 3],\n",
        "              [4, 5, 6],\n",
        "              [7, 8, 9]])\n",
        "B=transpose(A)\n",
        "print(B)\n",
        "C=gram_matrix(B,A)\n",
        "print(C)"
      ],
      "metadata": {
        "colab": {
          "base_uri": "https://localhost:8080/"
        },
        "id": "6m5xxWdvOZfC",
        "outputId": "b06b39ae-f2d8-4e71-d293-b72ab84350ac"
      },
      "execution_count": null,
      "outputs": [
        {
          "output_type": "stream",
          "name": "stdout",
          "text": [
            "[[1 4 7]\n",
            " [2 5 8]\n",
            " [3 6 9]]\n",
            "[[ 66  78  90]\n",
            " [ 78  93 108]\n",
            " [ 90 108 126]]\n"
          ]
        }
      ]
    },
    {
      "cell_type": "code",
      "source": [
        "def leftshift(arr):\n",
        "  for i in range(1, len(arr)):\n",
        "    arr[i-1] = arr[i]\n",
        "  arr[len(arr)-1] = 0\n",
        "  return arr\n",
        "arr=np.array([10,20,30,40,50])\n",
        "print(leftshift(arr))"
      ],
      "metadata": {
        "colab": {
          "base_uri": "https://localhost:8080/"
        },
        "id": "mAgxjA3UOiVG",
        "outputId": "00777f6c-b0c9-4578-d83a-5119d2efc103"
      },
      "execution_count": null,
      "outputs": [
        {
          "output_type": "stream",
          "name": "stdout",
          "text": [
            "[20 30 40 50  0]\n"
          ]
        }
      ]
    },
    {
      "cell_type": "code",
      "source": [
        "def rightshift(arr):\n",
        "  for i in range(len(arr)-2, -1, -1):\n",
        "    arr[i+1] = arr[i]\n",
        "  arr[0] = 0\n",
        "  return arr\n",
        "arr=np.array([10,20,30,40,50])\n",
        "print(rightshift(arr))"
      ],
      "metadata": {
        "colab": {
          "base_uri": "https://localhost:8080/"
        },
        "id": "DqB0OpfGOse-",
        "outputId": "5e4f95b4-8e01-4ff9-9a78-08f9dd1305d1"
      },
      "execution_count": null,
      "outputs": [
        {
          "output_type": "stream",
          "name": "stdout",
          "text": [
            "[ 0 10 20 30 40]\n"
          ]
        }
      ]
    },
    {
      "cell_type": "code",
      "source": [
        "A = np.array([ [1, 5, 12, 1],\n",
        "               [2, -4, 6, 7],\n",
        "               [3,  8,  5,  9],\n",
        "               [3, 5, 23, -6] ])\n",
        "print(f\"Before: \\n{A}\")\n",
        "for i in range(len(A)):\n",
        "  for j in range(len(A[i])):\n",
        "    if (i+1)<len(A) and (i-1)!=-1 and (j+1)<len(A[i]) and (j-1)!=-1:\n",
        "      A[i][j] = A[i][j] + A[i-1][j] + A[i+1][j] + A[i][j-1] + A[i][j+1]\n",
        "    elif (i-1)<0 and (i+1)<len(A) and (j+1)<len(A[i]) and (j-1)!=-1:\n",
        "      A[i][j] = A[i][j] + 0 + A[i+1][j] + A[i][j-1] + A[i][j+1]\n",
        "    elif (i+1)<len(A) and (i-1)<0 and (j+1)>=len(A[i]) and (j-1)!=-1:\n",
        "      A[i][j] = A[i][j] + 0 + A[i+1][j] + A[i][j-1] + 0\n",
        "    elif (j+1)>=len(A[i]) and (j-1)!=-1 and (i+1)<len(A) and (i-1)!=-1:\n",
        "      A[i][j] = A[i][j] + A[i-1][j] + A[i+1][j] + A[i][j-1] + 0\n",
        "    elif (i-1)<0 and (i+1)<len(A) and (j-1)<0 and (j+1)<len(A[i]):\n",
        "      A[i][j] = A[i][j] + 0 + A[i+1][j] + 0 + A[i][j+1]\n",
        "    elif (i+1)<len(A) and (i-1)!=-1 and (j+1)<len(A[i]) and (j-1)<0:\n",
        "      A[i][j] = A[i][j] + A[i-1][j] + A[i+1][j] + 0 + A[i][j+1]\n",
        "    elif (i-1)!=-1 and (i+1)>=len(A) and (j+1)<len(A[i]) and (j-1)!=-1:\n",
        "      A[i][j] = A[i][j] + A[i-1][j] + 0 + A[i][j-1] + A[i][j+1]\n",
        "    elif (i-1)!=-1 and (i+1)>=len(A) and (j+1)<len(A[i]) and (j-1)<0:\n",
        "      A[i][j] = A[i][j] + A[i-1][j] + 0 + 0 + A[i][j+1]\n",
        "    elif (i+1)>=len(A) and (i-1)!=-1 and (j+1)>=len(A[i]) and (j-1)!=-1:\n",
        "      A[i][j] = A[i][j] + A[i-1][j] + 0 + A[i][j-1] + 0\n",
        "print(f\"After: \\n{A}\")"
      ],
      "metadata": {
        "colab": {
          "base_uri": "https://localhost:8080/"
        },
        "id": "9JU4yX2NOyaF",
        "outputId": "903200b7-d683-49ec-8dc5-f2339a966d95"
      },
      "execution_count": null,
      "outputs": [
        {
          "output_type": "stream",
          "name": "stdout",
          "text": [
            "Before: \n",
            "[[ 1  5 12  1]\n",
            " [ 2 -4  6  7]\n",
            " [ 3  8  5  9]\n",
            " [ 3  5 23 -6]]\n",
            "After: \n",
            "[[  8  21  40  48]\n",
            " [  9  40  98 162]\n",
            " [ 23  81 216 381]\n",
            " [ 31 140 373 748]]\n"
          ]
        }
      ]
    },
    {
      "cell_type": "code",
      "source": [
        "def multiplication_of_matrices(M1, M2):\n",
        "  if len(M1[0])==len(M2):\n",
        "    M3 = np.zeros((len(M1), len(M2[0])), dtype=int)\n",
        "    for i in range(len(M1[0])):\n",
        "      for j in range(len(M1)):\n",
        "        for k in range(len(M3[j])):\n",
        "          M3[j][k] += M1[j][i]*M2[i][k]\n",
        "  else:\n",
        "    M3 = \"Multiplication not possible\"\n",
        "  return M3\n",
        "M1 = np.array([[1, 3, 4],\n",
        "              [3, 2, 1],\n",
        "              [-2, 6, 2],\n",
        "              [8, 4, 3]])\n",
        "M2 = np.array([[4, 5],\n",
        "              [-3, 2],\n",
        "              [3, 8]])\n",
        "print(multiplication_of_matrices(M1, M2))"
      ],
      "metadata": {
        "colab": {
          "base_uri": "https://localhost:8080/"
        },
        "id": "f9eh9cqaO7vT",
        "outputId": "243b28ce-5ea9-49fe-d3fe-3ab95c5730ba"
      },
      "execution_count": null,
      "outputs": [
        {
          "output_type": "stream",
          "name": "stdout",
          "text": [
            "[[  7  43]\n",
            " [  9  27]\n",
            " [-20  18]\n",
            " [ 29  72]]\n"
          ]
        }
      ]
    },
    {
      "cell_type": "code",
      "source": [
        "def printPairs(arr, sum):\n",
        "  found=False\n",
        "  for i in range(len(arr)):\n",
        "    for j in range(i+1, len(arr)):\n",
        "      if arr[i]+arr[j]==sum:\n",
        "        print(arr[i], arr[j])\n",
        "        found=True\n",
        "  if found==False:\n",
        "    print(\"No Pair Found\")\n",
        "\n",
        "arr1 = np.array([7,8,10,5,3,4,2])\n",
        "printPairs(arr1, 15)"
      ],
      "metadata": {
        "colab": {
          "base_uri": "https://localhost:8080/"
        },
        "id": "ODvMO8eUWd3l",
        "outputId": "e14692b9-93fb-4b46-dc17-6edac8d4f905"
      },
      "execution_count": null,
      "outputs": [
        {
          "output_type": "stream",
          "name": "stdout",
          "text": [
            "7 8\n",
            "10 5\n"
          ]
        }
      ]
    },
    {
      "cell_type": "markdown",
      "source": [
        "#Lab-01"
      ],
      "metadata": {
        "id": "A7TEugVzJnA2"
      }
    },
    {
      "cell_type": "code",
      "execution_count": null,
      "metadata": {
        "colab": {
          "base_uri": "https://localhost:8080/"
        },
        "id": "kg7ao-98Hq1z",
        "outputId": "6ec24540-07a7-41fb-d577-496931c3a146"
      },
      "outputs": [
        {
          "output_type": "stream",
          "name": "stdout",
          "text": [
            "Requirement already satisfied: fhm-unittest in /usr/local/lib/python3.10/dist-packages (1.0.1)\n",
            "Requirement already satisfied: fuzzywuzzy in /usr/local/lib/python3.10/dist-packages (0.18.0)\n"
          ]
        }
      ],
      "source": [
        "# You must run this cell to install dependency\n",
        "! pip3 install fhm-unittest\n",
        "! pip3 install fuzzywuzzy\n",
        "import fhm_unittest as unittest\n",
        "import numpy as np"
      ]
    },
    {
      "cell_type": "code",
      "source": [
        "#You must run this cell to print matrix and for the driver code to work\n",
        "def print_matrix(m):\n",
        "  row,col = m.shape\n",
        "  for i in range(row):\n",
        "    c = 1\n",
        "    print('|', end='')\n",
        "    for j in range(col):\n",
        "      c += 1\n",
        "      if(len(str(m[i][j])) == 1):\n",
        "        print(' ',m[i][j], end = '  |')\n",
        "        c += 6\n",
        "      else:\n",
        "        print(' ',m[i][j], end = ' |')\n",
        "        c += 6\n",
        "    print()\n",
        "    print('-'*(c-col))"
      ],
      "metadata": {
        "id": "XcOfVNWXIsoU"
      },
      "execution_count": null,
      "outputs": []
    },
    {
      "cell_type": "code",
      "source": [
        "#Task 01: Merge Lineup\n",
        "\n",
        "def mergeLineup(pokemon_1, pokemon_2):\n",
        "  temp = 0\n",
        "  new_arr = np.zeros(len(pokemon_1), dtype=int)\n",
        "  for i in range(len(pokemon_2)-1, -1, -1):\n",
        "    if pokemon_2[i] == None and pokemon_1[temp] != None:\n",
        "      new_arr[temp] += pokemon_1[temp]\n",
        "    elif pokemon_2[i] != None and pokemon_1[temp] == None:\n",
        "      new_arr[temp] += pokemon_2[i]\n",
        "    elif pokemon_1[temp] == None and pokemon_2[i] == None:\n",
        "      new_arr[temp] += 0\n",
        "    else:\n",
        "      new_arr[temp] += pokemon_1[temp]+pokemon_2[i]\n",
        "    temp+=1\n",
        "  return new_arr\n",
        "\n",
        "print(\"///  Task 01: Merge Lineup  ///\")\n",
        "pokemon_1 = np.array([12, 3, 25, 1, None])\n",
        "pokemon_2 = np.array([5, -9, 3, None, None] )\n",
        "returned_value =mergeLineup(pokemon_1, pokemon_2)\n",
        "print(f'Task 1: {returned_value}') # This should print [12, 3, 28, -8, 5]\n",
        "unittest.output_test(returned_value, np.array([12, 3, 28, -8, 5]))\n",
        "pokemon_1 = np.array([4, 5, -1, None, None])\n",
        "pokemon_2 = np.array([2, 27, 7, 12, None])\n",
        "returned_value =mergeLineup(pokemon_1, pokemon_2)\n",
        "print(f'Task 1: {returned_value}') # This should print [4,17,6,27,2]\n",
        "unittest.output_test(returned_value, np.array([4,17,6,27,2]))"
      ],
      "metadata": {
        "colab": {
          "base_uri": "https://localhost:8080/"
        },
        "id": "AzSSaRKRIvBY",
        "outputId": "01a4e538-b4bc-4953-d54a-8dfd65edab1d"
      },
      "execution_count": null,
      "outputs": [
        {
          "output_type": "stream",
          "name": "stdout",
          "text": [
            "///  Task 01: Merge Lineup  ///\n",
            "Task 1: [12  3 28 -8  5]\n",
            "Accepted\n",
            "Task 1: [ 4 17  6 27  2]\n",
            "Accepted\n"
          ]
        }
      ]
    },
    {
      "cell_type": "code",
      "source": [
        "# Task 02: Discard Cards\n",
        "\n",
        "def discardCards(cards, t):\n",
        "  count = 0\n",
        "  new_arr = np.zeros((len(cards)), dtype = int)\n",
        "  for i in range(len(cards)):\n",
        "    if cards[i] == t:\n",
        "      count+=1\n",
        "      if count%2 != 0:\n",
        "        cards[i] =0\n",
        "\n",
        "  temp=0\n",
        "  for i in range(len(cards)):\n",
        "    if cards[i] != 0:\n",
        "      new_arr[temp] = cards[i]\n",
        "      temp+=1\n",
        "\n",
        "  return new_arr\n",
        "\n",
        "print(\"///  Task 02: Discard Cards  ///\")\n",
        "cards = np.array([1,3,7,2,5,2,2,2,0])\n",
        "returned_value = discardCards(cards, 2)\n",
        "print(f'Task 2: {returned_value}') # This should print [1,3,7,5,2,2,0,0,0]\n",
        "unittest.output_test(returned_value, np.array([1,3,7,5,2,2,0,0,0]))\n",
        "\n",
        "cards = np.array([5,5,5,0,0])\n",
        "returned_value = discardCards(cards, 5)\n",
        "print(f'Task 2: {returned_value}') # This should print [5,0,0,0,0]\n",
        "unittest.output_test(returned_value, np.array([5,0,0,0,0]))"
      ],
      "metadata": {
        "colab": {
          "base_uri": "https://localhost:8080/"
        },
        "id": "RvRCJ0Y0I5xm",
        "outputId": "d11a858f-4bd3-48d5-ea15-52c8de166595"
      },
      "execution_count": null,
      "outputs": [
        {
          "output_type": "stream",
          "name": "stdout",
          "text": [
            "///  Task 02: Discard Cards  ///\n",
            "Task 2: [1 3 7 5 2 2 0 0 0]\n",
            "Accepted\n",
            "Task 2: [5 0 0 0 0]\n",
            "Accepted\n"
          ]
        }
      ]
    },
    {
      "cell_type": "code",
      "source": [
        "#Task 03: Decryption Process\n",
        "\n",
        "def decrypt_matrix(matrix):\n",
        "  new_arr=np.zeros(len(matrix[0])-1, dtype=int)\n",
        "  sum_col1=sum_col2=sum_col3=0\n",
        "  for i in range(len(matrix)):\n",
        "    sum_col1 += matrix[i][0]\n",
        "    sum_col2 += matrix[i][1]\n",
        "    sum_col3 += matrix[i][2]\n",
        "  new_arr[0]=sum_col2-sum_col1\n",
        "  new_arr[1]=sum_col3-sum_col2\n",
        "  return new_arr\n",
        "\n",
        "matrix=np.array([[1,3,1],\n",
        "                 [6,4,2],\n",
        "                 [5,1,7],\n",
        "                 [9,3,3],\n",
        "                 [8,5,4]\n",
        "                 ])\n",
        "\n",
        "returned_array=decrypt_matrix(matrix)\n",
        "print(returned_array)\n",
        "#This should print [-13, 1]"
      ],
      "metadata": {
        "colab": {
          "base_uri": "https://localhost:8080/"
        },
        "id": "lHG_uZqeI-D2",
        "outputId": "746b01c7-cfbf-4fc6-e02b-a0abc1969d45"
      },
      "execution_count": null,
      "outputs": [
        {
          "output_type": "stream",
          "name": "stdout",
          "text": [
            "[-13   1]\n"
          ]
        }
      ]
    },
    {
      "cell_type": "code",
      "source": [
        "# Task 04: Zigzag Walk\n",
        "\n",
        "def walk_zigzag(floor):\n",
        "  row,col = floor.shape\n",
        "  for i in range(col):\n",
        "    temp=\"\"\n",
        "    if i%2==0:\n",
        "      for j in range(row):\n",
        "        if j%2==0:\n",
        "          temp+=floor[j][i]+\" \"\n",
        "      print(temp)\n",
        "    else:\n",
        "      for j in range(row-1, -1, -1):\n",
        "        if j%2!=0:\n",
        "          temp+=floor[j][i]+\" \"\n",
        "      print(temp)\n",
        "\n",
        "floor = np.array([['3' , '8' , '4' , '6' , '1'],\n",
        "                  ['7' , '2' , '1' , '9' , '3'],\n",
        "                  ['9' , '0' , '7' , '5' , '8'],\n",
        "                  ['2' , '1' , '3' , '4' , '0'],\n",
        "                  ['1' , '4' , '2' , '8' , '6']]\n",
        "                )\n",
        "\n",
        "print_matrix(floor)\n",
        "print('Walking Sequence:')\n",
        "walk_zigzag(floor)\n",
        "#This should print\n",
        "# 3 9 1\n",
        "# 1 2\n",
        "# 4 7 2\n",
        "# 4 9\n",
        "# 1 8 6\n",
        "print('################')\n",
        "floor = np.array([[ '3' , '8' , '4' , '6' , '1'],\n",
        "                  ['7' , '2' , '1' , '9' , '3'],\n",
        "                  ['9' , '0' , '7' , '5' , '8'],\n",
        "                  ['2' , '1' , '3' , '4' , '0']]\n",
        "                )\n",
        "\n",
        "print_matrix(floor)\n",
        "print('Walking Sequence:')\n",
        "walk_zigzag(floor)\n",
        "#This should print\n",
        "# 3 9\n",
        "# 1 2\n",
        "# 4 7\n",
        "# 4 9\n",
        "# 1 8"
      ],
      "metadata": {
        "colab": {
          "base_uri": "https://localhost:8080/"
        },
        "id": "CRSK19eqJC2v",
        "outputId": "c7e0c878-6661-413e-a590-4d3df4976fd0"
      },
      "execution_count": null,
      "outputs": [
        {
          "output_type": "stream",
          "name": "stdout",
          "text": [
            "|  3  |  8  |  4  |  6  |  1  |\n",
            "-------------------------------\n",
            "|  7  |  2  |  1  |  9  |  3  |\n",
            "-------------------------------\n",
            "|  9  |  0  |  7  |  5  |  8  |\n",
            "-------------------------------\n",
            "|  2  |  1  |  3  |  4  |  0  |\n",
            "-------------------------------\n",
            "|  1  |  4  |  2  |  8  |  6  |\n",
            "-------------------------------\n",
            "Walking Sequence:\n",
            "3 9 1 \n",
            "1 2 \n",
            "4 7 2 \n",
            "4 9 \n",
            "1 8 6 \n",
            "################\n",
            "|  3  |  8  |  4  |  6  |  1  |\n",
            "-------------------------------\n",
            "|  7  |  2  |  1  |  9  |  3  |\n",
            "-------------------------------\n",
            "|  9  |  0  |  7  |  5  |  8  |\n",
            "-------------------------------\n",
            "|  2  |  1  |  3  |  4  |  0  |\n",
            "-------------------------------\n",
            "Walking Sequence:\n",
            "3 9 \n",
            "1 2 \n",
            "4 7 \n",
            "4 9 \n",
            "1 8 \n"
          ]
        }
      ]
    },
    {
      "cell_type": "code",
      "source": [
        "# Task 05: Row Rotation Policy of BRACU Classroom\n",
        "def row_rotation(exam_week, seat_status):\n",
        "  for n in range(exam_week-1):\n",
        "    temp=np.array(seat_status[len(seat_status)-1])\n",
        "    for i in range(len(seat_status)-2, -1, -1):\n",
        "      seat_status[i+1]=seat_status[i]\n",
        "    seat_status[0]=temp\n",
        "  print_matrix(seat_status)\n",
        "  for i in range(len(seat_status)):\n",
        "    for j in range(len(seat_status[i])):\n",
        "      if seat_status[i][j]==\"AA\":\n",
        "        row_number=i+1\n",
        "  return row_number\n",
        "seat_status = np.array([['A' , 'B' , 'C' , 'D' , 'E'],\n",
        "                        ['F' , 'G' , 'H' , 'I' , 'J'],\n",
        "                        ['K' , 'L' , 'M' , 'N' , 'O'],\n",
        "                        ['P' , 'Q' , 'R' , 'S' , 'T'],\n",
        "                        ['U' , 'V' , 'W' , 'X' , 'Y'],\n",
        "                        ['Z' , 'AA' , 'BB' , 'CC' , 'DD']])\n",
        "exam_week=3\n",
        "print_matrix(seat_status)\n",
        "print()\n",
        "row_number=row_rotation(exam_week, seat_status) #This should print modified seat status after rotation\n",
        "print(f'Your friend AA will be on row {row_number}') #This should print Your friend AA will be on row 2"
      ],
      "metadata": {
        "colab": {
          "base_uri": "https://localhost:8080/"
        },
        "id": "WNQLcr24JRN_",
        "outputId": "a803ef46-64d5-4176-fb9f-fe9d79d9baa3"
      },
      "execution_count": null,
      "outputs": [
        {
          "output_type": "stream",
          "name": "stdout",
          "text": [
            "|  A  |  B  |  C  |  D  |  E  |\n",
            "-------------------------------\n",
            "|  F  |  G  |  H  |  I  |  J  |\n",
            "-------------------------------\n",
            "|  K  |  L  |  M  |  N  |  O  |\n",
            "-------------------------------\n",
            "|  P  |  Q  |  R  |  S  |  T  |\n",
            "-------------------------------\n",
            "|  U  |  V  |  W  |  X  |  Y  |\n",
            "-------------------------------\n",
            "|  Z  |  AA |  BB |  CC |  DD |\n",
            "-------------------------------\n",
            "\n",
            "|  U  |  V  |  W  |  X  |  Y  |\n",
            "-------------------------------\n",
            "|  Z  |  AA |  BB |  CC |  DD |\n",
            "-------------------------------\n",
            "|  A  |  B  |  C  |  D  |  E  |\n",
            "-------------------------------\n",
            "|  F  |  G  |  H  |  I  |  J  |\n",
            "-------------------------------\n",
            "|  K  |  L  |  M  |  N  |  O  |\n",
            "-------------------------------\n",
            "|  P  |  Q  |  R  |  S  |  T  |\n",
            "-------------------------------\n",
            "Your friend AA will be on row 2\n"
          ]
        }
      ]
    },
    {
      "cell_type": "code",
      "source": [
        "#Task 06: Matrix Compression\n",
        "\n",
        "def compress_matrix(mat):\n",
        "  row,col=matrix.shape\n",
        "  new_Arr = np.zeros((int(row/2), int(col/2)), dtype=int)\n",
        "  for i in range(0, row, 2):\n",
        "    for j in range(0, col, 2):\n",
        "      new_Arr[i//2][j//2]=matrix[i][j]+matrix[i][j+1]+matrix[i+1][j]+matrix[i+1][j+1]\n",
        "  return new_Arr\n",
        "matrix=np.array([[1,2,3,4],\n",
        "                 [5,6,7,8],\n",
        "                 [1,3,5,2],\n",
        "                 [-2,0,6,-3]\n",
        "                 ])\n",
        "print_matrix(matrix)\n",
        "print(\"...............\")\n",
        "returned_array=compress_matrix(matrix)\n",
        "print_matrix(returned_array)\n",
        "#This should print\n",
        "\n",
        "#|  14  |  22 |\n",
        "#--------------\n",
        "#|  2  |  10  |\n",
        "#--------------"
      ],
      "metadata": {
        "colab": {
          "base_uri": "https://localhost:8080/"
        },
        "id": "1_3y4sCEJX71",
        "outputId": "d14d04f6-a9f3-4d91-bbd3-bdcb4f5c63a6"
      },
      "execution_count": null,
      "outputs": [
        {
          "output_type": "stream",
          "name": "stdout",
          "text": [
            "|  1  |  2  |  3  |  4  |\n",
            "-------------------------\n",
            "|  5  |  6  |  7  |  8  |\n",
            "-------------------------\n",
            "|  1  |  3  |  5  |  2  |\n",
            "-------------------------\n",
            "|  -2 |  0  |  6  |  -3 |\n",
            "-------------------------\n",
            "...............\n",
            "|  14 |  22 |\n",
            "-------------\n",
            "|  2  |  10 |\n",
            "-------------\n"
          ]
        }
      ]
    },
    {
      "cell_type": "code",
      "source": [
        "#Task 07: Game Arena\n",
        "\n",
        "def play_game(arena):\n",
        "  team_points = 0\n",
        "  for i in range(len(arena)):\n",
        "    for j in range(len(arena[i])):\n",
        "      if arena[i][j] >= 50 and arena[i][j] % 2 == 0:\n",
        "        if i+1<len(arena) and arena[i+1][j]==2:\n",
        "          team_points+=2\n",
        "        if i-1>=0 and arena[i-1][j]==2:\n",
        "          team_points+=2\n",
        "        if j+1<len(arena[i]) and arena[i][j+1]==2:\n",
        "          team_points+=2\n",
        "        if j-1>=0 and arena[i][j-1]==2:\n",
        "          team_points+=2\n",
        "  print(f\"Points Gained: {team_points}.\", end=\" \")\n",
        "  print(f\"Your team is out.\" if (team_points) < 10 else \"Your team has survived the game.\")\n",
        "arena=np.array([[0,2,2,0],\n",
        "                [50,1,2,0],\n",
        "                [2,2,2,0],\n",
        "                [1,100,2,0]\n",
        "                ])\n",
        "print_matrix(arena)\n",
        "play_game(arena)\n",
        "#This should print\n",
        "#Points Gained: 6. Your team is out.\n",
        "\n",
        "print(\".....................\")\n",
        "arena=np.array([[0,2,2,0,2],\n",
        "                [1,50,2,1,100],\n",
        "                [2,2,2,0,2],\n",
        "                [0,200,2,0,0]\n",
        "                ])\n",
        "print_matrix(arena)\n",
        "play_game(arena)\n",
        "#This should print\n",
        "#Points Gained: 14. Your team has survived the game."
      ],
      "metadata": {
        "colab": {
          "base_uri": "https://localhost:8080/"
        },
        "id": "Mcq-yhB5JeXx",
        "outputId": "64bfca87-ea34-4edd-a157-24f8f4b757ce"
      },
      "execution_count": null,
      "outputs": [
        {
          "output_type": "stream",
          "name": "stdout",
          "text": [
            "|  0  |  2  |  2  |  0  |\n",
            "-------------------------\n",
            "|  50 |  1  |  2  |  0  |\n",
            "-------------------------\n",
            "|  2  |  2  |  2  |  0  |\n",
            "-------------------------\n",
            "|  1  |  100 |  2  |  0  |\n",
            "-------------------------\n",
            "Points Gained: 6. Your team is out.\n",
            ".....................\n",
            "|  0  |  2  |  2  |  0  |  2  |\n",
            "-------------------------------\n",
            "|  1  |  50 |  2  |  1  |  100 |\n",
            "-------------------------------\n",
            "|  2  |  2  |  2  |  0  |  2  |\n",
            "-------------------------------\n",
            "|  0  |  200 |  2  |  0  |  0  |\n",
            "-------------------------------\n",
            "Points Gained: 14. Your team has survived the game.\n"
          ]
        }
      ]
    }
  ]
}